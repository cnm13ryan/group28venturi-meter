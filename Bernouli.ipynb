{
 "cells": [
  {
   "cell_type": "code",
   "execution_count": 139,
   "id": "a513fb47",
   "metadata": {},
   "outputs": [],
   "source": [
    "import numpy as np\n",
    "import math\n",
    "import matplotlib.pyplot as plt\n",
    "import pandas"
   ]
  },
  {
   "cell_type": "code",
   "execution_count": 140,
   "id": "a01ac564",
   "metadata": {},
   "outputs": [],
   "source": [
    "# Hydrostatic pressure at node i [mmHg]\n",
    "# Total Head at node i [mmHg]\n",
    "# i = 1, 2, 3, 4, 5, 6\n",
    "\n",
    "# 10 litres in 57.3 seconds\n",
    "hyplst_1 = np.array([275, 240, 15, 145, 170, 180])\n",
    "tothd_1 = np.array([28.8, 26.8, 26.4, 24.2, 22.6, 21.2])\n",
    "\n",
    "\n",
    "# 10 litres in 108 seconds\n",
    "hyplst_2 = np.array([210, 205, 115, 155, 160, 165])\n",
    "tothd_2 = np.array([22.0, 21.5, 21.1, 19.4, 17.7, 17.9])\n",
    "\n",
    "# 10 litres in 190 seconds\n",
    "hyplst_3 = np.array([130, 120, 95, 107.5, 110, 107.5])\n",
    "tothd_3 = np.array([14.1, 13.6, 12.3, 11.8, 11.9, 11.1])"
   ]
  },
  {
   "cell_type": "markdown",
   "id": "0bac73b3",
   "metadata": {},
   "source": [
    "## Error Analysis (GUM Type A Evaluation)"
   ]
  },
  {
   "cell_type": "markdown",
   "id": "49654961",
   "metadata": {},
   "source": [
    "## Sample Standard Deviation\n",
    "To show the variability of the measured values of the quantity X, we use the sample standard deviation:\n",
    "\n",
    "$s = \\sqrt{\\dfrac{\\sum_{i=1}^n (X_i - \\overline{X})^2}{n - 1}}$"
   ]
  },
  {
   "cell_type": "code",
   "execution_count": 142,
   "id": "6eedeb4c",
   "metadata": {},
   "outputs": [
    {
     "name": "stdout",
     "output_type": "stream",
     "text": [
      "The sample standard deviation of hydrostatic pressure at node 1: 72.62919523166975\n",
      "The sample standard deviation of total head at node 1: 7.356856212631408\n",
      "\n",
      "The sample standard deviation of hydrostatic pressure at node 2: 61.71169527191206\n",
      "The sample standard deviation of total head at node 2: 6.64253967495365\n",
      "\n",
      "The sample standard deviation of hydrostatic pressure at node 3: 52.91502622129181\n",
      "The sample standard deviation of total head at node 3: 7.122031545376173\n",
      "\n",
      "The sample standard deviation of hydrostatic pressure at node 4: 25.04163200219453\n",
      "The sample standard deviation of total head at node 4: 6.252466180103122\n",
      "\n",
      "The sample standard deviation of hydrostatic pressure at node 5: 32.145502536643185\n",
      "The sample standard deviation of total head at node 5: 5.356304696336832\n",
      "\n",
      "The sample standard deviation of hydrostatic pressure at node 6: 38.26987501068344\n",
      "The sample standard deviation of total head at node 6: 5.150080905513362\n",
      "\n"
     ]
    }
   ],
   "source": [
    "def cal_ssd(lst):\n",
    "    \"\"\"Returns the sample standard deviation of the measured values of quantity X. \"\"\"\n",
    "    def calMean(lst, n):\n",
    "        s = 0; \n",
    "        for i in lst: s += i;\n",
    "        mean = s/n;\n",
    "        return mean;\n",
    "    \n",
    "    n = len(lst);\n",
    "    x_bar = calMean(lst, n);\n",
    "    x_diff = [(i - x_bar)**2 for i in lst];\n",
    "    x_var = calMean(x_diff, n-1);\n",
    "    return math.sqrt(x_var);\n",
    "\n",
    "# Calculate the sample standard deviation for hydrostatic pressure and total head at each node\n",
    "ssd_hy , ssd_tothd = [], [];\n",
    "for i in range(0, 6):\n",
    "    ssd_hy.append(cal_ssd([hyplst_1[i], hyplst_2[i], hyplst_3[i]]))\n",
    "    ssd_tothd.append(cal_ssd([tothd_1[i], tothd_2[i], tothd_3[i]]))\n",
    "    print(f\"The sample standard deviation of hydrostatic pressure at node {i+1}: {ssd_hy[i]}\")\n",
    "    print(f\"The sample standard deviation of total head at node {i+1}: {ssd_tothd[i]}\\n\")\n",
    "    "
   ]
  },
  {
   "cell_type": "markdown",
   "id": "a6bef309",
   "metadata": {},
   "source": [
    "## Standard Error of the mean\n",
    "The measurement of the variability of the means (if a experiment consisting of measurements repeated many times, then the distribution of menas has its own standard deviation) is represented by the standard deviation of the means (often called the standard error of the mean) as $s(\\overline{X})$\n",
    "\n",
    "$s(\\overline{X}) = \\dfrac{s}{\\sqrt{n}}$"
   ]
  },
  {
   "cell_type": "code",
   "execution_count": 143,
   "id": "5b101afb",
   "metadata": {},
   "outputs": [
    {
     "name": "stdout",
     "output_type": "stream",
     "text": [
      "The standard error of the mean for hydrostatic pressure at node 1: 41.93248541803042\n",
      "The standard error of the mean for the total head at node 1: 4.247482914752115\n",
      "\n",
      "The standard error of the mean for hydrostatic pressure at node 2: 35.629263877386585\n",
      "The standard error of the mean for the total head at node 2: 3.835072069437259\n",
      "\n",
      "The standard error of the mean for hydrostatic pressure at node 3: 30.550504633038933\n",
      "The standard error of the mean for the total head at node 3: 4.11190682989994\n",
      "\n",
      "The standard error of the mean for hydrostatic pressure at node 4: 14.45779297741456\n",
      "The standard error of the mean for the total head at node 4: 3.609863032181569\n",
      "\n",
      "The standard error of the mean for hydrostatic pressure at node 5: 18.559214542766743\n",
      "The standard error of the mean for the total head at node 5: 3.092463958291727\n",
      "\n",
      "The standard error of the mean for hydrostatic pressure at node 6: 22.09512263927142\n",
      "The standard error of the mean for the total head at node 6: 2.973400597146491\n",
      "\n"
     ]
    }
   ],
   "source": [
    "def cal_sderr(ssd, n):\n",
    "    \"\"\"Returns the standard deviation of the means\"\"\"\n",
    "    return (ssd / math.sqrt(n));\n",
    "\n",
    "# Calculate the standard error of the mean for hydrostatic pressure and total head at each node\n",
    "sm_hy , sm_tothd = [], [];\n",
    "n = 3;\n",
    "for i in range(0, 6):\n",
    "    sm_hy.append(cal_sderr(ssd_hy[i], n))\n",
    "    sm_tothd.append(cal_sderr(ssd_tothd[i], n))\n",
    "    print(f\"The standard error of the mean for hydrostatic pressure at node {i+1}: {sm_hy[i]}\")\n",
    "    print(f\"The standard error of the mean for the total head at node {i+1}: {sm_tothd[i]}\\n\")  "
   ]
  },
  {
   "cell_type": "markdown",
   "id": "417cae58",
   "metadata": {},
   "source": [
    "## Maximum Absolute Percentage Uncertainty"
   ]
  },
  {
   "cell_type": "code",
   "execution_count": 144,
   "id": "a37a61fa",
   "metadata": {},
   "outputs": [
    {
     "name": "stdout",
     "output_type": "stream",
     "text": [
      "Max abs percentage uncertainty of hydrostatic pressure at node 1: 32.25575801386955\n",
      "Max abs percentage uncertainty of the total head at node 1: 30.12399230320649\n",
      "\n",
      "Max abs percentage uncertainty of hydrostatic pressure at node 2: 29.69105323115549\n",
      "Max abs percentage uncertainty of the total head at node 2: 28.19905933409749\n",
      "\n",
      "Max abs percentage uncertainty of hydrostatic pressure at node 3: 203.67003088692624\n",
      "Max abs percentage uncertainty of the total head at node 3: 33.4301368284548\n",
      "\n",
      "Max abs percentage uncertainty of hydrostatic pressure at node 4: 13.449109746432148\n",
      "Max abs percentage uncertainty of the total head at node 4: 30.592059594759057\n",
      "\n",
      "Max abs percentage uncertainty of hydrostatic pressure at node 5: 16.87201322069704\n",
      "Max abs percentage uncertainty of the total head at node 5: 25.9870920864851\n",
      "\n",
      "Max abs percentage uncertainty of hydrostatic pressure at node 6: 20.553602455136204\n",
      "Max abs percentage uncertainty of the total head at node 6: 26.787392767085507\n",
      "\n"
     ]
    }
   ],
   "source": [
    "def cal_ab_max_u(sderr, lst, n):\n",
    "    \"\"\"Returns the maximum absolute percentage uncertainty\"\"\"\n",
    "    result = 0;\n",
    "    for j in range(n): \n",
    "        tmp = sderr / lst[j] * 100; \n",
    "        if (tmp > result):\n",
    "            result = tmp;\n",
    "    return result;\n",
    "\n",
    "# Calculate the maximum absolute percentage uncertainty for hydrostatic pressure and total head at each node\n",
    "ab_hy , ab_tothd = [], [];\n",
    "n = 3;\n",
    "for i in range(0, 6):\n",
    "    ab_hy.append(cal_ab_max_u(sm_hy[i], \n",
    "                              [hyplst_1[i], hyplst_2[i], hyplst_3[i]], n))\n",
    "    ab_tothd.append(cal_ab_max_u(sm_tothd[i], \n",
    "                                 [tothd_1[i], tothd_2[i], tothd_3[i]], n))\n",
    "    print(f\"Max abs percentage uncertainty of hydrostatic pressure at node {i+1}: {ab_hy[i]}\")\n",
    "    print(f\"Max abs percentage uncertainty of the total head at node {i+1}: {ab_tothd[i]}\\n\")  \n",
    "\n"
   ]
  },
  {
   "cell_type": "markdown",
   "id": "0fd08d12",
   "metadata": {},
   "source": [
    "## Results Calculations from experimental data\n",
    "\n",
    "Calibrate the Venturi meter and calculate the discharge coefficient"
   ]
  },
  {
   "cell_type": "markdown",
   "id": "287f63dc",
   "metadata": {},
   "source": [
    "$G = \\dfrac{C_D \\cdot \\rho \\cdot A_1 \\cdot A_2 \\cdot \\sqrt{2 \\cdot g \\cdot \\Delta h_v}}{\\sqrt{A_1^2 - A_2^2}}$\n",
    "\n",
    "$\\\\\\\\$\n",
    "\n",
    "Coulson, J.M. Richardson, J.F. Backhurst, J.R. Harker, J.H.. (1999). Coulson and Richardson's Chemical Engineering Volume 1 - Fluid Flow, Heat Transfer and Mass Transfer (6th Edition) - 6.3.5 The Venturi Meter. (pp. 255,256). Elsevier. Retrieved from \n",
    "https://app.knovel.com/hotlink/pdf/id:kt007GBHM5/coulson-richardsons-chemical/the-venturi-meter"
   ]
  },
  {
   "cell_type": "code",
   "execution_count": 146,
   "id": "c7464676",
   "metadata": {},
   "outputs": [
    {
     "name": "stdout",
     "output_type": "stream",
     "text": [
      "For the given 10 litres in 57.3 seconds flow rate\n",
      "The discharge coefficient at node 2: 86.40609373470114\n",
      "The discharge coefficient at node 3: 291.08687698690943\n",
      "The discharge coefficient at node 4: 93.30717613262146\n",
      "The discharge coefficient at node 5: 40.75074284398662\n",
      "There is no difference in A1 and A2 such that:\n",
      "The discharge coefficient at node 6: 0.0\n",
      "\n",
      "\n",
      "For the given 10 litres in 108 seconds flow rate\n",
      "The discharge coefficient at node 2: 91.68646612959955\n",
      "The discharge coefficient at node 3: 252.19580557907557\n",
      "The discharge coefficient at node 4: 65.8473276729766\n",
      "The discharge coefficient at node 5: 25.961394303803402\n",
      "There is no difference in A1 and A2 such that:\n",
      "The discharge coefficient at node 6: 0.0\n",
      "\n",
      "\n",
      "For the given 10 litres in 190 seconds flow rate\n",
      "The discharge coefficient at node 2: 52.11651758945658\n",
      "The discharge coefficient at node 3: 101.3661649772157\n",
      "The discharge coefficient at node 4: 39.79523419755205\n",
      "The discharge coefficient at node 5: 20.63103687214385\n",
      "There is no difference in A1 and A2 such that:\n",
      "The discharge coefficient at node 6: 0.0\n",
      "\n",
      "\n"
     ]
    }
   ],
   "source": [
    "# Calculate the discharge coefficient\n",
    "\n",
    "\n",
    "# 10 litres in 57.3 seconds\n",
    "hyplst_1 = np.array([275, 240, 15, 145, 170, 180])\n",
    "tothd_1 = np.array([28.8, 26.8, 26.4, 24.2, 22.6, 21.2])\n",
    "\n",
    "\n",
    "# 10 litres in 108 seconds\n",
    "hyplst_2 = np.array([210, 205, 115, 155, 160, 165])\n",
    "tothd_2 = np.array([22.0, 21.5, 21.1, 19.4, 17.7, 17.9])\n",
    "\n",
    "# 10 litres in 190 seconds\n",
    "hyplst_3 = np.array([130, 120, 95, 107.5, 110, 107.5])\n",
    "tothd_3 = np.array([14.1, 13.6, 12.3, 11.8, 11.9, 11.1])\n",
    "\n",
    "G = [10/57.3, 10/108, 10/190]; #[L/s] = [kg/s] for water\n",
    "rho = 1000\n",
    "A1 = 338.6*1e-6 ; # [m^2]\n",
    "A2 = [i*1e-6 for i in [338.6, 233.5, 84.6, 170.2, 255.2, 338.6]]; #[m^2]\n",
    "\n",
    "g = 9.81\n",
    "    \n",
    "def calDischargeCoeff(G, rho, A1, A2, g, hv):\n",
    "    tmp1 = G * math.sqrt(A1**2 - A2**2)\n",
    "    tmp2 = A1 * A2 * math.sqrt(2 * g * hv )\n",
    "    #print(tmp1)\n",
    "    #print(tmp2)\n",
    "    return tmp1 / tmp2\n",
    "    \n",
    "    \n",
    "def printing(val):\n",
    "    if val == 0: print(\"There is no difference in A1 and A2 such that:\")\n",
    "\n",
    "CD1 = [];\n",
    "print(\"For the given 10 litres in 57.3 seconds flow rate\")\n",
    "for i in range(1, 6):\n",
    "    CD1.append(calDischargeCoeff(G[0], rho, A1, A2[i], g, tothd_1[0]-tothd_1[i]))\n",
    "    printing(CD1[i-1])\n",
    "    print(f\"The discharge coefficient at node {i+1}: {CD1[i-1]}\")\n",
    "print(\"\\n\")\n",
    "\n",
    "CD2 = [];\n",
    "print(\"For the given 10 litres in 108 seconds flow rate\")\n",
    "for i in range(1, 6):\n",
    "    CD2.append(calDischargeCoeff(G[1], rho, A1, A2[i], g, tothd_2[0]-tothd_2[i]))\n",
    "    printing(CD2[i-1])\n",
    "    print(f\"The discharge coefficient at node {i+1}: {CD2[i-1]}\")\n",
    "print(\"\\n\")\n",
    "\n",
    "CD3 = [];\n",
    "print(\"For the given 10 litres in 190 seconds flow rate\")\n",
    "for i in range(1, 6):\n",
    "    CD3.append(calDischargeCoeff(G[2], rho, A1, A2[i], g, tothd_3[0]-tothd_3[i]))\n",
    "    printing(CD3[i-1])\n",
    "    print(f\"The discharge coefficient at node {i+1}: {CD3[i-1]}\")\n",
    "print(\"\\n\")"
   ]
  },
  {
   "cell_type": "markdown",
   "id": "089e789b",
   "metadata": {},
   "source": [
    "<!-- Another way to calculate the discharge coefficient\n",
    "\n",
    "$G = \\dfrac{C_D \\cdot \\rho \\cdot A_1 \\cdot A_2 \\cdot \\sqrt{2 \\cdot v \\cdot (P_1 - P_2)}}{\\sqrt{A_1^2 - A_2^2}}$\n",
    "\n",
    "$\\\\\\\\$ -->"
   ]
  },
  {
   "cell_type": "code",
   "execution_count": 171,
   "id": "56a921ab",
   "metadata": {},
   "outputs": [],
   "source": [
    "# def calDischargeCoeff(G, rho, A1, A2, v, P1, P2):\n",
    "#     tmp1 = G * math.sqrt(A1**2 - A2**2)\n",
    "#     tmp2 = A1 * A2 * math.sqrt(2 * v * (P1 - P2) )\n",
    "#     print(tmp1)\n",
    "#     print(tmp2)\n",
    "#     return tmp1 / tmp2\n",
    "\n",
    "# Discharge coefficient for 10 litres in 57.3 seconds\n",
    "# CD1 = [];\n",
    "# for i in range(6):\n",
    "#     CD1.append(calDischargeCoeff(G[0], rho, A1, A2[i], v1[i], P1[0], P2[0][i]))\n",
    "\n",
    "# P1 = [275, 210, 130]\n",
    "# P2 = [[275, 240, 15, 145, 170, 180], \n",
    "#       [210, 205, 115, 155, 160, 165], \n",
    "#       [130, 120, 95, 107.5, 110, 107.5]]\n",
    "\n",
    "# v1 = [G[0]/i for i in A2]\n",
    "# v2 = [G[1]/i for i in A2]\n",
    "# v3 = [G[2]/i for i in A2]"
   ]
  },
  {
   "cell_type": "code",
   "execution_count": null,
   "id": "3a4cc832",
   "metadata": {},
   "outputs": [],
   "source": []
  },
  {
   "cell_type": "code",
   "execution_count": null,
   "id": "2996a0de",
   "metadata": {},
   "outputs": [],
   "source": []
  },
  {
   "cell_type": "markdown",
   "id": "92494847",
   "metadata": {},
   "source": [
    "# Investigate the pressure changes along the Venturi meter and give a graphical representation of the pressure distribution.\n",
    "\n"
   ]
  },
  {
   "cell_type": "code",
   "execution_count": 172,
   "id": "d8ac30fe",
   "metadata": {},
   "outputs": [
    {
     "data": {
      "image/png": "[encoded data removed]",
      "text/plain": [
       "<Figure size 720x504 with 1 Axes>"
      ]
     },
     "metadata": {
      "needs_background": "light"
     },
     "output_type": "display_data"
    },
    {
     "name": "stdout",
     "output_type": "stream",
     "text": [
      "\n"
     ]
    }
   ],
   "source": [
    "nodes = [1, 2, 3, 4, 5, 6]\n",
    "(fig, ax1) = plt.subplots(1, figsize=(10, 7))\n",
    "\n",
    "ax1.plot(nodes,hyplst_1,'r-',label='$G_1 =$ '+str(round(G[0], 4)) + ' [kg/s]')\n",
    "ax1.plot(nodes,hyplst_2,'b-',label='$G_2 =$ '+str(round(G[1], 4)) + ' [kg/s]')\n",
    "ax1.plot(nodes,hyplst_3,'g-',label='$G_3 =$ '+str(round(G[2], 4)) + ' [kg/s]')\n",
    "ax1.set_xlabel(r'Node i, where $i \\in \\{1, 2, 3, 4, 5, 6\\}$',fontsize=16)\n",
    "ax1.set_ylabel(r'$P$ [mmHg]',fontsize=16,color='black')\n",
    "ax1.tick_params(axis='y', labelcolor='red', labelsize=14)\n",
    "ax1.tick_params(axis='x', labelsize=14)\n",
    "ax1.legend(loc='upper right',fontsize=12)\n",
    "ax1.grid(True)\n",
    "\n",
    "plt.title('Distributions of hydrostatic pressure over the Venturi tube axis for of the three inlet flowrates. ',fontsize=15)\n",
    "fig.tight_layout()  # otherwise the right y-label is slightly clipped\n",
    "plt.show()\n",
    "print('')"
   ]
  },
  {
   "cell_type": "markdown",
   "id": "37dbb989",
   "metadata": {},
   "source": [
    "# Estimate the permanent pressure loss along the Venturi meter. \n",
    "$\\\\\\\\$\n",
    "Basu, Swapan Debnath, Ajay Kumar. (2019). Power Plant Instrumentation and Control Handbook - A Guide to Thermal Power Plants (2nd Edition) - 4.4.2.4 Orifice Plate. (pp. 282, 283, 284, 285). Elsevier. Retrieved from \n",
    "https://app.knovel.com/hotlink/pdf/id:kt0122PUY8/power-plant-instrumentation/orifice-plate"
   ]
  },
  {
   "cell_type": "code",
   "execution_count": null,
   "id": "d8e73e1b",
   "metadata": {},
   "outputs": [],
   "source": [
    "# 40% from literature values"
   ]
  },
  {
   "cell_type": "markdown",
   "id": "aed1751f",
   "metadata": {},
   "source": [
    "# Estimate the losses for the same length of pipe if the diameter remains constant (assuming smooth pipe). "
   ]
  },
  {
   "cell_type": "code",
   "execution_count": null,
   "id": "cfd59acd",
   "metadata": {},
   "outputs": [],
   "source": []
  },
  {
   "cell_type": "markdown",
   "id": "eae6eb4e",
   "metadata": {},
   "source": [
    "# Identify the type of flow."
   ]
  },
  {
   "cell_type": "code",
   "execution_count": null,
   "id": "a167feeb",
   "metadata": {},
   "outputs": [],
   "source": []
  },
  {
   "cell_type": "markdown",
   "id": "63373ebd",
   "metadata": {},
   "source": [
    "# Estimate the profile of the maximum velocity along the Venturi meter. "
   ]
  },
  {
   "cell_type": "code",
   "execution_count": null,
   "id": "0829936f",
   "metadata": {},
   "outputs": [],
   "source": []
  },
  {
   "cell_type": "markdown",
   "id": "3a807092",
   "metadata": {},
   "source": [
    "\n",
    "# Calculate the maximum and average velocity at different locations and Reynolds numbers from theory.\n"
   ]
  },
  {
   "cell_type": "code",
   "execution_count": null,
   "id": "7f62f652",
   "metadata": {},
   "outputs": [],
   "source": []
  },
  {
   "cell_type": "markdown",
   "id": "2caba80d",
   "metadata": {},
   "source": [
    "# Where are the deviations from the theoretical predictions attributed?"
   ]
  },
  {
   "cell_type": "code",
   "execution_count": null,
   "id": "29b5ac47",
   "metadata": {},
   "outputs": [],
   "source": []
  },
  {
   "cell_type": "markdown",
   "id": "58df8c30",
   "metadata": {},
   "source": [
    "# Compare the converging and diverging sections of the Venturi meter in terms of velocity, total head, and energy losses."
   ]
  },
  {
   "cell_type": "code",
   "execution_count": null,
   "id": "0261232f",
   "metadata": {},
   "outputs": [],
   "source": []
  }
 ],
 "metadata": {
  "kernelspec": {
   "display_name": "Python 3 (ipykernel)",
   "language": "python",
   "name": "python3"
  },
  "language_info": {
   "codemirror_mode": {
    "name": "ipython",
    "version": 3
   },
   "file_extension": ".py",
   "mimetype": "text/x-python",
   "name": "python",
   "nbconvert_exporter": "python",
   "pygments_lexer": "ipython3",
   "version": "3.9.12"
  }
 },
 "nbformat": 4,
 "nbformat_minor": 5
}
