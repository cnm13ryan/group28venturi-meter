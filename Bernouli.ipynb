{
 "cells": [
  {
   "cell_type": "code",
   "execution_count": 306,
   "id": "a513fb47",
   "metadata": {},
   "outputs": [],
   "source": [
    "import numpy as np\n",
    "import math\n",
    "import matplotlib.pyplot as plt\n",
    "import pandas\n",
    "import statistics as stat"
   ]
  },
  {
   "cell_type": "markdown",
   "id": "7d312fbb",
   "metadata": {},
   "source": [
    "## Experiment measurements (water level at the static pressure gauges)"
   ]
  },
  {
   "cell_type": "code",
   "execution_count": 307,
   "id": "8e4ab0ad",
   "metadata": {},
   "outputs": [],
   "source": [
    "# hN1 = np.array([[height at node 1 at reading 1 for exp1, ..., \n",
    "#                    height at node 1 at reading 6 for exp1],\n",
    "#\n",
    "#                   [height at node 1 at reading 1 for exp2, ..., \n",
    "#                    height at node 1 at reading 6 for exp2],\n",
    "#\n",
    "#                   [height at node 1 at reading 1 for exp3, ..., \n",
    "#                    height at node 1 at reading 6 for exp3]])\n",
    "\n",
    "# Node 1                    \n",
    "hN1 = np.array([[265, 255, 250, 240, 230, 235],\n",
    "               [215, 205, 200, 200, 185, 190],\n",
    "              [128, 125, 123, 120, 120, 115]])\n",
    "\n",
    "\n",
    "# Node 2\n",
    "hN2 = np.array([[250, 240, 235, 225, 215, 220], \n",
    "               [210, 205, 198, 193, 175, 185], \n",
    "               [125, 122, 120, 115, 118, 114]])\n",
    "\n",
    "# Node 3\n",
    "hN3 = np.array([[15, 12, 12, 23, 12, 20], \n",
    "               [123, 114, 115, 114, 100, 105], \n",
    "               [100, 96, 96, 96, 97, 97]])\n",
    "\n",
    "# Node 4\n",
    "hN4 = np.array([[160, 152, 148, 148, 138, 145], \n",
    "               [173, 163, 158, 160, 145, 152], \n",
    "               [112, 108, 107, 107, 108, 104]])\n",
    "\n",
    "# Node 5\n",
    "hN5 = np.array([[182, 178, 176, 172, 162, 170], \n",
    "               [182, 173, 167, 168, 153, 162], \n",
    "               [115, 112, 118, 108, 108, 105]])\n",
    "\n",
    "# Node 6\n",
    "hN6 = np.array([[192, 187, 186, 182, 172, 180], \n",
    "              [185, 176, 171, 172, 156, 166], \n",
    "               [116, 112, 111, 111, 111, 106]])\n",
    "\n",
    "# Note: All the height above are measured in [mm]"
   ]
  },
  {
   "cell_type": "markdown",
   "id": "216674fd",
   "metadata": {},
   "source": [
    "## Experiment measurements (water level at the total head gauge)"
   ]
  },
  {
   "cell_type": "code",
   "execution_count": 308,
   "id": "1de6077c",
   "metadata": {},
   "outputs": [],
   "source": [
    "# tothead1 = np.array([total head at node 1 for exp1], \n",
    "#                     [total head at node 1 for exp2],\n",
    "#                     [total head at node 1 for exp3])\n",
    "\n",
    "tothead1 = np.array([[28.2],\n",
    "                    [22.8],\n",
    "                    [14]])\n",
    "\n",
    "tothead2 = np.array([[27.2],\n",
    "                   [21.6],\n",
    "                   [13]])\n",
    "\n",
    "tothead3 = np.array([[26],\n",
    "                   [21.3],\n",
    "                   [12.4]])\n",
    "\n",
    "tothead4 = np.array([[23.5], \n",
    "                   [19.4], \n",
    "                   [11.8]])\n",
    "\n",
    "tothead5 = np.array([[22.5],\n",
    "                   [17.8],\n",
    "                   [11.4]])\n",
    "\n",
    "tothead6 = np.array([[21.5],\n",
    "                   [18.0],\n",
    "                   [11.4]])\n",
    "\n",
    "# Note: All the height above are measured in [mm]"
   ]
  },
  {
   "cell_type": "markdown",
   "id": "cb653832",
   "metadata": {},
   "source": [
    "## Experiment measurements (Time required to fill 10 litres of water)"
   ]
  },
  {
   "cell_type": "code",
   "execution_count": 309,
   "id": "722f4c9f",
   "metadata": {},
   "outputs": [],
   "source": [
    "# time = np.array([[time required to fill 10 litres of water for exp1], \n",
    "#                  [time required to fill 10 litres of water for exp2], \n",
    "#                  [time required to fill 10 litres of water for exp3]])\n",
    "\n",
    "time = np.array([[57.3],\n",
    "               [108],\n",
    "               [190]])\n",
    "\n",
    "# Note: Time is measured in seconds [s]"
   ]
  },
  {
   "cell_type": "markdown",
   "id": "0bac73b3",
   "metadata": {},
   "source": [
    "## Experimental data error analysis "
   ]
  },
  {
   "cell_type": "markdown",
   "id": "5bdd09d6",
   "metadata": {},
   "source": [
    "[1]: “Evaluation of measurement data -Guide to the expression of uncertainty in measurement Évaluation des données de mesure - Guide pour l’expression de l’incertitude de mesure.”. pp: 8-11. Available: https://www.bipm.org/documents/20126/2071204/JCGM_100_2008_E.pdf/cb0ef43f-baa5-11cf-3f85-4dcd86f77bd6 ."
   ]
  },
  {
   "cell_type": "markdown",
   "id": "e4978f47",
   "metadata": {},
   "source": [
    "### 4.2 Type A evaluation of standard uncertainty"
   ]
  },
  {
   "cell_type": "markdown",
   "id": "a1a6c3e2",
   "metadata": {},
   "source": [
    "#### Arithmetic mean (4.2.1)\n",
    "The expected value $\\mu_X$ of a quantity X which is a random variable, given n independent observations under the same conditions of measurements, is the arithmetic mean $\\overline{X}$: $\\newline$\n",
    "$\\overline{X} = \\dfrac{1}{n} \\sum_{i=1}^n X_i$"
   ]
  },
  {
   "cell_type": "code",
   "execution_count": 310,
   "id": "559d2457",
   "metadata": {},
   "outputs": [],
   "source": [
    "def cal_mean(lst):\n",
    "    \"\"\"Returns the mean of the measured values of quantity X\"\"\"\n",
    "    res = 0;\n",
    "    n = len(lst);\n",
    "    \n",
    "    for i in lst:\n",
    "        res += i;\n",
    "    \n",
    "    return res / n;  "
   ]
  },
  {
   "cell_type": "markdown",
   "id": "49654961",
   "metadata": {},
   "source": [
    "#### Eperimental Standard Deviation (4.2.2)\n",
    "To show the variability of the measured values of the quantity X, we use the experimental standard deviation:\n",
    "\n",
    "$s(x_i) = \\sqrt{\\dfrac{\\sum_{i=1}^n (X_i - \\overline{X})^2}{n - 1}}$"
   ]
  },
  {
   "cell_type": "code",
   "execution_count": 311,
   "id": "6eedeb4c",
   "metadata": {},
   "outputs": [],
   "source": [
    "def cal_ssd(lst):\n",
    "    \"\"\"Returns the sample standard deviation of the measured values of quantity X. \"\"\"\n",
    "    \n",
    "    x_bar = cal_mean(lst)\n",
    "    x_diff = [(i - x_bar)**2 for i in lst];\n",
    "    n = len(lst);\n",
    "    \n",
    "    tmp = sum(x_diff);\n",
    "    \n",
    "    return math.sqrt(tmp / (n - 1));  "
   ]
  },
  {
   "cell_type": "markdown",
   "id": "8af58a52",
   "metadata": {},
   "source": [
    "#### Experiemental Standard deviation of the mean (4.2.3)\n",
    "The measurement of the variability of the means (if a experiment consisting of measurements repeated many times, then the distribution of menas has its own standard deviation) is represented by the standard deviation of the means (often called the standard error of the mean) as $s(\\overline{X})$\n",
    "\n",
    "To show the variability of the measured values of the quantity X against the expectation $\\mu_x$, we use the experimental standard deviation\n",
    "\n",
    "$s(\\overline{x}) = \\dfrac{s(x_i)}{\\sqrt{n}}$"
   ]
  },
  {
   "cell_type": "code",
   "execution_count": 312,
   "id": "8b1f6e80",
   "metadata": {},
   "outputs": [],
   "source": [
    "def cal_sderr(lst):\n",
    "    \"\"\"Returns the sample standard deviation of the mean\"\"\"\n",
    "    \n",
    "    ssd = cal_ssd(lst)\n",
    "    \n",
    "    return (ssd / math.sqrt(n));"
   ]
  },
  {
   "cell_type": "markdown",
   "id": "78c1e9a8",
   "metadata": {},
   "source": [
    "## Find the mean for the water level [mm] at each node in the static pressure gauge for each experiment \n",
    "### Data are obtained from the photoshots included in the other folders in the same Github repository."
   ]
  },
  {
   "cell_type": "code",
   "execution_count": 313,
   "id": "4e46b4a2",
   "metadata": {},
   "outputs": [
    {
     "name": "stdout",
     "output_type": "stream",
     "text": [
      "For experiment 1: \n",
      "The water level at node 1 is 245.83333333333334 [mm]\n",
      "The water level at node 2 is 230.83333333333334 [mm]\n",
      "The water level at node 3 is 15.666666666666666 [mm]\n",
      "The water level at node 4 is 148.5 [mm]\n",
      "The water level at node 5 is 173.33333333333334 [mm]\n",
      "The water level at node 6 is 183.16666666666666 [mm]\n"
     ]
    }
   ],
   "source": [
    "# Experiment 1\n",
    "\n",
    "height_n1_exp1 = cal_mean(hN1[0])\n",
    "height_n2_exp1 = cal_mean(hN2[0])\n",
    "height_n3_exp1 = cal_mean(hN3[0])\n",
    "height_n4_exp1 = cal_mean(hN4[0])\n",
    "height_n5_exp1 = cal_mean(hN5[0])\n",
    "height_n6_exp1 = cal_mean(hN6[0])\n",
    "\n",
    "exp1WaterLevel = np.array([height_n1_exp1, \n",
    "                           height_n2_exp1, \n",
    "                           height_n3_exp1, \n",
    "                           height_n4_exp1, \n",
    "                           height_n5_exp1, \n",
    "                           height_n6_exp1])\n",
    "\n",
    "print(\"For experiment 1: \")\n",
    "for i in range(6):\n",
    "    print(f\"The water level at node {i+1} is {exp1WaterLevel[i]} [mm]\")"
   ]
  },
  {
   "cell_type": "code",
   "execution_count": 314,
   "id": "8094992b",
   "metadata": {},
   "outputs": [
    {
     "name": "stdout",
     "output_type": "stream",
     "text": [
      "For experiment 2: \n",
      "The water level at node 1 is 199.16666666666666 [mm]\n",
      "The water level at node 2 is 194.33333333333334 [mm]\n",
      "The water level at node 3 is 111.83333333333333 [mm]\n",
      "The water level at node 4 is 158.5 [mm]\n",
      "The water level at node 5 is 167.5 [mm]\n",
      "The water level at node 6 is 171.0 [mm]\n"
     ]
    }
   ],
   "source": [
    "# Experiment 2\n",
    "\n",
    "height_n1_exp2 = cal_mean(hN1[1])\n",
    "height_n2_exp2 = cal_mean(hN2[1])\n",
    "height_n3_exp2 = cal_mean(hN3[1])\n",
    "height_n4_exp2 = cal_mean(hN4[1])\n",
    "height_n5_exp2 = cal_mean(hN5[1])\n",
    "height_n6_exp2 = cal_mean(hN6[1])\n",
    "\n",
    "exp2WaterLevel = np.array([height_n1_exp2, \n",
    "                           height_n2_exp2, \n",
    "                           height_n3_exp2, \n",
    "                           height_n4_exp2, \n",
    "                           height_n5_exp2, \n",
    "                           height_n6_exp2])\n",
    "\n",
    "print(\"For experiment 2: \")\n",
    "for i in range(6):\n",
    "    print(f\"The water level at node {i+1} is {exp2WaterLevel[i]} [mm]\")"
   ]
  },
  {
   "cell_type": "code",
   "execution_count": 315,
   "id": "bb19635c",
   "metadata": {},
   "outputs": [
    {
     "name": "stdout",
     "output_type": "stream",
     "text": [
      "For experiment 3: \n",
      "The water level at node 1 is 121.83333333333333 [mm]\n",
      "The water level at node 2 is 119.0 [mm]\n",
      "The water level at node 3 is 97.0 [mm]\n",
      "The water level at node 4 is 107.66666666666667 [mm]\n",
      "The water level at node 5 is 111.0 [mm]\n",
      "The water level at node 6 is 111.16666666666667 [mm]\n"
     ]
    }
   ],
   "source": [
    "# Experiment 3\n",
    "\n",
    "height_n1_exp3 = cal_mean(hN1[2])\n",
    "height_n2_exp3 = cal_mean(hN2[2])\n",
    "height_n3_exp3 = cal_mean(hN3[2])\n",
    "height_n4_exp3 = cal_mean(hN4[2])\n",
    "height_n5_exp3 = cal_mean(hN5[2])\n",
    "height_n6_exp3 = cal_mean(hN6[2])\n",
    "\n",
    "exp3WaterLevel = np.array([height_n1_exp3, \n",
    "                           height_n2_exp3, \n",
    "                           height_n3_exp3, \n",
    "                           height_n4_exp3, \n",
    "                           height_n5_exp3, \n",
    "                           height_n6_exp3])\n",
    "\n",
    "print(\"For experiment 3: \")\n",
    "for i in range(6):\n",
    "    print(f\"The water level at node {i+1} is {exp3WaterLevel[i]} [mm]\")"
   ]
  },
  {
   "cell_type": "markdown",
   "id": "9547c344",
   "metadata": {},
   "source": [
    "## The total head [m^2 / s^2] at each node for each experiment\n",
    "$\\dfrac{u^2}{2} + g z + \\dfrac{P}{\\rho} = constant$, where the constant is the total head."
   ]
  },
  {
   "cell_type": "code",
   "execution_count": 316,
   "id": "d300cfeb",
   "metadata": {},
   "outputs": [
    {
     "name": "stdout",
     "output_type": "stream",
     "text": [
      "The total head at node 1 for experiment 1 28.2 [m^2 / s^2]\n",
      "The total head at node 1 for experiment 2 22.8 [m^2 / s^2]\n",
      "The total head at node 1 for experiment 3 14.0 [m^2 / s^2]\n",
      "\n",
      "\n",
      "The total head at node 2 for experiment 1 27.2 [m^2 / s^2]\n",
      "The total head at node 2 for experiment 2 21.6 [m^2 / s^2]\n",
      "The total head at node 2 for experiment 3 13.0 [m^2 / s^2]\n",
      "\n",
      "\n",
      "The total head at node 3 for experiment 1 26.0 [m^2 / s^2]\n",
      "The total head at node 3 for experiment 2 21.3 [m^2 / s^2]\n",
      "The total head at node 3 for experiment 3 12.4 [m^2 / s^2]\n",
      "\n",
      "\n",
      "The total head at node 4 for experiment 1 23.5 [m^2 / s^2]\n",
      "The total head at node 4 for experiment 2 19.4 [m^2 / s^2]\n",
      "The total head at node 4 for experiment 3 11.8 [m^2 / s^2]\n",
      "\n",
      "\n",
      "The total head at node 5 for experiment 1 22.5 [m^2 / s^2]\n",
      "The total head at node 5 for experiment 2 17.8 [m^2 / s^2]\n",
      "The total head at node 5 for experiment 3 11.4 [m^2 / s^2]\n",
      "\n",
      "\n",
      "The total head at node 6 for experiment 1 21.5 [m^2 / s^2]\n",
      "The total head at node 6 for experiment 2 18.0 [m^2 / s^2]\n",
      "The total head at node 6 for experiment 3 11.4 [m^2 / s^2]\n"
     ]
    }
   ],
   "source": [
    "for j in range(3):\n",
    "    print(f\"The total head at node 1 for experiment {j+1} {tothead1[j][0]} [m^2 / s^2]\")\n",
    "\n",
    "print(\"\\n\")\n",
    "for j in range(3):\n",
    "    print(f\"The total head at node 2 for experiment {j+1} {tothead2[j][0]} [m^2 / s^2]\")\n",
    "    \n",
    "print(\"\\n\")\n",
    "for j in range(3):\n",
    "    print(f\"The total head at node 3 for experiment {j+1} {tothead3[j][0]} [m^2 / s^2]\")\n",
    "print(\"\\n\")\n",
    "for j in range(3):\n",
    "    print(f\"The total head at node 4 for experiment {j+1} {tothead4[j][0]} [m^2 / s^2]\")\n",
    "\n",
    "print(\"\\n\")\n",
    "for j in range(3):\n",
    "    print(f\"The total head at node 5 for experiment {j+1} {tothead5[j][0]} [m^2 / s^2]\")\n",
    "    \n",
    "\n",
    "print(\"\\n\")\n",
    "for j in range(3):\n",
    "    print(f\"The total head at node 6 for experiment {j+1} {tothead6[j][0]} [m^2 / s^2]\")"
   ]
  },
  {
   "cell_type": "markdown",
   "id": "f32a6d04",
   "metadata": {},
   "source": [
    "## Result calculations from experimental data"
   ]
  },
  {
   "cell_type": "markdown",
   "id": "3d8285c5",
   "metadata": {},
   "source": [
    "Assume incompressible flow and no frictional losses, from Bernoulli's Equation\n",
    "$$\n",
    "\\frac{P_{1}}{\\rho g}+\\frac{V_{1}^{2}}{2 g}+Z_{1}=\\frac{P_{2}}{\\rho g}+\\frac{V_{2}^{2}}{2 g}+Z_{2}\n",
    "$$\n",
    "where Z is the elevation above some arbitary horizontal plane. \n",
    "\n",
    "Use of the continuity Equation $\\mathrm{Q}=\\mathrm{A}_{1} \\mathrm{~V}_{1}=\\mathrm{A}_{2} \\mathrm{~V}_{2}$, equation (1) becomes \n",
    "\n",
    "$$\n",
    "\\begin{aligned}\n",
    "& \\frac{P_{1}-P_{2}}{\\rho g}+ (Z_{1}-Z_{2}) =\\frac{V_{2}^{2}}{2 g}\\left[1-\\left(\\frac{A_{2}}{A_{1}}\\right)^{2}\\right] \\\\\n",
    "& V_{2}=\\frac{1}{\\sqrt{1-\\left(\\frac{A_{2}}{A_{1}}\\right)^{2}}} \\sqrt{2 g\\left(\\frac{P-P_{2}}{\\rho g}+\\left(Z_{1}-Z_{2}\\right)\\right)}\n",
    "\\end{aligned}\n",
    "$$\n",
    "The theoretical flow rate is therefore:\n",
    "$$\n",
    "Q_{\\text {theo }}=A_{2} V_{2}=\\frac{A_{2}}{\\sqrt{1-\\left(\\frac{A_{2}}{A_{1}}\\right)^{2}}} \\sqrt{2 g\\left(\\frac{P_{1}-P_{2}}{\\rho g}+\\left(Z_{1}-Z_{2}\\right)\\right)}\n",
    "$$\n",
    "\n",
    "Since the term $\\frac{P_{1}-P_{2}}{\\rho g}+\\left(Z_{1}-Z_{2}\\right)$ represents the difference in piezometric  head $(\\Delta h)$ between two nodes, in this case nodes 1 and 2. The above expression for $V_{2}$ is obtained based on the assumption of one-dimensipnal frictionless flow. Hence the theoritical flow can be expressed as\n",
    "\n",
    "$$\n",
    "Q_{\\text {theo }}=A_{2} V_{2}=\\frac{A_{2}}{\\sqrt{1-\\left(\\frac{A_{2}}{A_{1}}\\right)^{2}}} \\sqrt{2 g(\\Delta h)}\n",
    "$$\n",
    "\n",
    "Thus, \n",
    "$$\n",
    "Q_{\\text {theo }}= \\sqrt{\\dfrac{2 g \\Delta h}{\\left(\\frac{1}{A_{2}^{2}}-\\frac{1}{A_{1}^{2}}\\right)}} \\hspace{1cm} Eq(1)\n",
    "$$\n",
    "\n",
    "Because of the above assumptions, the actual flow rate, $Q_{\\text {act }}$ differs from $Q_{\\text {theo }}$ and the ratio between them is called the discharge coefficient, $\\mathrm{C}_{\\mathrm{d}}$ which can be written as $$\n",
    "C_{d}=\\frac{Q_{\\text {act }}}{Q_{\\text {theo }}} \\hspace{1cm} Eq(2)\n",
    "$$\n",
    "\n",
    "\n",
    "[1]:“Ankara Yıldırım Beyazıt Üniversitesi,” www.aybu.edu.tr. https://www.aybu.edu.tr/bolumroot/contents/muhendislik_makina/files/VENTURIMETER%20EXPERIMENT(1).pdf .\n",
    "\n"
   ]
  },
  {
   "cell_type": "markdown",
   "id": "72db0733",
   "metadata": {},
   "source": [
    "### Difference in the piezometric head (Delta h)"
   ]
  },
  {
   "cell_type": "code",
   "execution_count": 317,
   "id": "9b8a6023",
   "metadata": {},
   "outputs": [
    {
     "name": "stdout",
     "output_type": "stream",
     "text": [
      "For experiment 1:\n",
      "The difference in the piezometric head between nodes 1, 2 is 15.0 [mm]\n",
      "The difference in the piezometric head between nodes 2, 3 is 215.16666666666669 [mm]\n",
      "The difference in the piezometric head between nodes 3, 4 is -132.83333333333334 [mm]\n",
      "The difference in the piezometric head between nodes 4, 5 is -24.833333333333343 [mm]\n",
      "The difference in the piezometric head between nodes 5, 6 is -9.833333333333314 [mm]\n"
     ]
    }
   ],
   "source": [
    "print(\"For experiment 1:\")\n",
    "exp1deltaH = [];\n",
    "for i in range(5):\n",
    "    exp1deltaH.append(exp1WaterLevel[i] - exp1WaterLevel[i+1])\n",
    "    print(f\"The difference in the piezometric head between nodes {i+1}, {i+2} is {exp1deltaH[i]} [mm]\")"
   ]
  },
  {
   "cell_type": "code",
   "execution_count": 318,
   "id": "0808d6a9",
   "metadata": {},
   "outputs": [
    {
     "name": "stdout",
     "output_type": "stream",
     "text": [
      "For experiment 2:\n",
      "The difference in the piezometric head between nodes 1, 2 is 4.833333333333314 [mm]\n",
      "The difference in the piezometric head between nodes 2, 3 is 82.50000000000001 [mm]\n",
      "The difference in the piezometric head between nodes 3, 4 is -46.66666666666667 [mm]\n",
      "The difference in the piezometric head between nodes 4, 5 is -9.0 [mm]\n",
      "The difference in the piezometric head between nodes 5, 6 is -3.5 [mm]\n"
     ]
    }
   ],
   "source": [
    "print(\"For experiment 2:\")\n",
    "exp2deltaH = [];\n",
    "for i in range(5):\n",
    "    exp2deltaH.append(exp2WaterLevel[i] - exp2WaterLevel[i+1])\n",
    "    print(f\"The difference in the piezometric head between nodes {i+1}, {i+2} is {exp2deltaH[i]} [mm]\")"
   ]
  },
  {
   "cell_type": "code",
   "execution_count": 319,
   "id": "6dd20f0f",
   "metadata": {},
   "outputs": [
    {
     "name": "stdout",
     "output_type": "stream",
     "text": [
      "For experiment 3:\n",
      "The difference in the piezometric head between nodes 1, 2 is 2.8333333333333286 [mm]\n",
      "The difference in the piezometric head between nodes 2, 3 is 22.0 [mm]\n",
      "The difference in the piezometric head between nodes 3, 4 is -10.666666666666671 [mm]\n",
      "The difference in the piezometric head between nodes 4, 5 is -3.3333333333333286 [mm]\n",
      "The difference in the piezometric head between nodes 5, 6 is -0.1666666666666714 [mm]\n"
     ]
    }
   ],
   "source": [
    "print(\"For experiment 3:\")\n",
    "exp3deltaH = [];\n",
    "for i in range(5):\n",
    "    exp3deltaH.append(exp3WaterLevel[i] - exp3WaterLevel[i+1])\n",
    "    print(f\"The difference in the piezometric head between nodes {i+1}, {i+2} is {exp3deltaH[i]} [mm]\")"
   ]
  },
  {
   "cell_type": "markdown",
   "id": "a8b43d50",
   "metadata": {},
   "source": [
    "### Calculate the theoretical Flow rate"
   ]
  },
  {
   "cell_type": "code",
   "execution_count": 320,
   "id": "18429b5d",
   "metadata": {},
   "outputs": [],
   "source": [
    "def calTheoG(A1, A2, delh, Z1=0, Z2=0, g=9.81):\n",
    "    \"\"\"Returns the theoretical flow rate according to above equation Eq(1)\"\"\"\n",
    "    \n",
    "    delh = delh * 1e-3\n",
    "    \n",
    "    tmp1 = 2 * g * delh;\n",
    "    #print(f\"delh: {delh}\")\n",
    "    tmp2 = (A1**2 - A2**2) / ((A1**2) * (A2**2));\n",
    "    \n",
    "    if (A1 == A2): return 'N/A'\n",
    "    \n",
    "    return math.sqrt(tmp1 / tmp2);\n",
    "    #return tmp1 / tmp2\n",
    "\n",
    "\n",
    "def printing(lst, sysno):\n",
    "    \"\"\"print out the theoretical flow rate calculated at each node for \n",
    "    different systems\"\"\"\n",
    "    \n",
    "    for i in range(len(lst)):\n",
    "        print(f\"The theoretical flow rate of system{sysno} at node {i+2}: {lst[i]} [kg/s]\")"
   ]
  },
  {
   "cell_type": "code",
   "execution_count": 321,
   "id": "b084000c",
   "metadata": {},
   "outputs": [],
   "source": [
    "# Experiment 1 actual flow rate: 10 litres in 57.3 seconds\n",
    "# [L / s] to [m^3 / s] to [kg / s]\n",
    "Q_act1 = ((10 / 57.3) / 1000) * 998.02; # [kg / s]"
   ]
  },
  {
   "cell_type": "code",
   "execution_count": 322,
   "id": "9c288e1d",
   "metadata": {},
   "outputs": [],
   "source": [
    "# Experimemt 2 actual flow rate: 10 litres in 108 seconds\n",
    "# [L / s] to [kg / s]\n",
    "Q_act2 = ((10 / 108) / 1000) * 998.02; # [kg / s]"
   ]
  },
  {
   "cell_type": "code",
   "execution_count": 323,
   "id": "d99a84da",
   "metadata": {},
   "outputs": [],
   "source": [
    "# Expereiment 3 actual flow rate: 10 litres in 190 seconds\n",
    "# [L / s] to [kg / s]\n",
    "Q_act3 = ((10 / 190) / 1000) * 998.02; # [kg / s]"
   ]
  },
  {
   "cell_type": "code",
   "execution_count": 324,
   "id": "06583cce",
   "metadata": {},
   "outputs": [
    {
     "name": "stdout",
     "output_type": "stream",
     "text": [
      "The actual flow rate at system 1: 0.17417452006980802 [kg/s]\n",
      "The actual flow rate at system 2: 0.09240925925925925 [kg/s]\n",
      "The actual flow rate at system 3: 0.05252736842105263 [kg/s]\n"
     ]
    }
   ],
   "source": [
    "# Actual flow rates of system 1, 2, and 3\n",
    "G = [Q_act1, Q_act2, Q_act3]; #[L/s] = [kg/s] for water\n",
    "for i in range(len(G)):\n",
    "    print(f\"The actual flow rate at system {i+1}: {G[i]} [kg/s]\")"
   ]
  },
  {
   "cell_type": "code",
   "execution_count": 325,
   "id": "943332de",
   "metadata": {},
   "outputs": [
    {
     "name": "stdout",
     "output_type": "stream",
     "text": [
      "The percentage uncertainty of measured flow rate at system 1: 0.18726003490401397\n",
      "The percentage uncertainty of measured flow rate at system 2: 0.1462962962962963\n",
      "The percentage uncertainty of measured flow rate at system 3: 0.12631578947368421\n"
     ]
    }
   ],
   "source": [
    "# Percentage uncertainty of time measured\n",
    "perTime = [5 / i for i in [57.3, 108, 190]]\n",
    "\n",
    "# Percentage uncertainty of volume [L] measured\n",
    "perVol = [1/10, 1/10, 1/10]\n",
    "\n",
    "# Total percentage uncertainty in flow rate [kg / s]\n",
    "perFlow = []\n",
    "for i in range(3):\n",
    "    perFlow.append(perVol[i] + perTime[i])\n",
    "    print(f\"The percentage uncertainty of measured flow rate at system {i+1}: {perFlow[i]}\") "
   ]
  },
  {
   "cell_type": "markdown",
   "id": "9ea40257",
   "metadata": {},
   "source": [
    "From the experimental brief, we know that $A \\in \\{338.6, 233.5, 84.6, 170.2, 255.2, 338.6\\} [mm^2]$ "
   ]
  },
  {
   "cell_type": "code",
   "execution_count": 326,
   "id": "bf21b0b4",
   "metadata": {},
   "outputs": [],
   "source": [
    "A = [i * 1e-6 for i in [338.6, 233.5, 84.6, 170.2, 255.2, 338.6]]; # [mm^2] to [m^2]"
   ]
  },
  {
   "cell_type": "markdown",
   "id": "84578cd3",
   "metadata": {},
   "source": [
    "Now we want to calculate the theoretical flow rate $Q_{theo}$ according to Eq (1)\n",
    "\n",
    "$$\n",
    "Q_{\\text {theo }}=\\sqrt{\\frac{2 g \\Delta h}{\\left(\\frac{1}{A_{2}^{2}}-\\frac{1}{A_{1}^{2}}\\right)}} \\hspace{1cm} Eq(1)\n",
    "$$\n",
    "\n",
    "Recall $\\frac{P_{1}-P_{2}}{\\rho g}+\\left(Z_{1}-Z_{2}\\right) = \\Delta h$ \n",
    "\n",
    "Note[1]: [mmH2O] * 9.80665 = [Pa] = $[\\frac{kg}{m \\cdot s^2}]$ $\\newline$\n",
    "\n",
    "Note[2]: density of water at $21[^\\circ C] = 0.99802 [\\frac{g}{cm^3}] = 998.02 [\\frac{kg}{m^3}]$ $\\newline$\n",
    "\n",
    "[1]: “Centimetre or millimetre of water,” Wikipedia, Dec. 20, 2022. https://en.wikipedia.org/wiki/Centimetre_or_millimetre_of_water (accessed Feb. 18, 2023).\n",
    "\n",
    "[2]: Water Science School, “Water Density | U.S. Geological Survey,” USGS, Jun. 05, 2018. https://www.usgs.gov/special-topics/water-science-school/science/water-density"
   ]
  },
  {
   "cell_type": "code",
   "execution_count": 327,
   "id": "14e364c1",
   "metadata": {},
   "outputs": [
    {
     "name": "stdout",
     "output_type": "stream",
     "text": [
      "For system 1 calculated by difference of piezometric head\n",
      "The theoretical flow rate of system1 at node 2: 0.00017491684601324322 [kg/s]\n",
      "The theoretical flow rate of system1 at node 3: 0.00018649408502279216 [kg/s]\n",
      "The theoretical flow rate of system1 at node 4: 0.00015739696782900284 [kg/s]\n",
      "The theoretical flow rate of system1 at node 5: 0.00015944064063334114 [kg/s]\n",
      "The theoretical flow rate of system1 at node 6: 0.00017055497183933842 [kg/s]\n",
      "\n",
      "The actual flow rate at system 1: 0.17417452006980802 +- 0.032615926707662134 [kg/s]\n"
     ]
    }
   ],
   "source": [
    "# Theoretical Flow rate for system 1\n",
    "print(\"For system 1 calculated by difference of piezometric head\")\n",
    "\n",
    "Gtheo1 = []\n",
    "for i in range(5): \n",
    "    #print(i)\n",
    "    Gtheo1.append(calTheoG(A[i], A[i+1], exp1deltaH[i]))\n",
    "printing(Gtheo1, 1)\n",
    "\n",
    "# Absolute uncertainty of G\n",
    "absFlow = perFlow[0] * G[0]\n",
    "\n",
    "print(f\"\\nThe actual flow rate at system {1}: {G[0]} +- {absFlow} [kg/s]\")"
   ]
  },
  {
   "cell_type": "code",
   "execution_count": 328,
   "id": "5f833178",
   "metadata": {},
   "outputs": [
    {
     "name": "stdout",
     "output_type": "stream",
     "text": [
      "For system 2:\n",
      "The theoretical flow rate of system2 at node 2: 9.929088508895886e-05 [kg/s]\n",
      "The theoretical flow rate of system2 at node 3: 0.00011547940573587393 [kg/s]\n",
      "The theoretical flow rate of system2 at node 4: 9.329238945840208e-05 [kg/s]\n",
      "The theoretical flow rate of system2 at node 5: 9.598486897747356e-05 [kg/s]\n",
      "The theoretical flow rate of system2 at node 6: 0.0001017531881648915 [kg/s]\n",
      "\n",
      "The actual flow rate at system 2: 0.09240925925925925 +- 0.013519132373113854 [kg/s]\n"
     ]
    }
   ],
   "source": [
    "# Theoretical Flow rate for system 2\n",
    "print(\"For system 2:\")\n",
    "\n",
    "Gtheo2 = []\n",
    "for i in range(5): \n",
    "    Gtheo2.append(calTheoG(A[i], A[i+1], exp2deltaH[i]))\n",
    "printing(Gtheo2, 2) \n",
    "\n",
    "# Absolute uncertainty of G\n",
    "absFlow = perFlow[1] * G[1]\n",
    "\n",
    "print(f\"\\nThe actual flow rate at system {2}: {G[1]} +- {absFlow} [kg/s]\")"
   ]
  },
  {
   "cell_type": "code",
   "execution_count": 329,
   "id": "036386b0",
   "metadata": {},
   "outputs": [
    {
     "name": "stdout",
     "output_type": "stream",
     "text": [
      "For system 3:\n",
      "The theoretical flow rate of system3 at node 2: 7.602122154933303e-05 [kg/s]\n",
      "The theoretical flow rate of system3 at node 3: 5.963330869932919e-05 [kg/s]\n",
      "The theoretical flow rate of system3 at node 4: 4.460229316553943e-05 [kg/s]\n",
      "The theoretical flow rate of system3 at node 5: 5.841453102015562e-05 [kg/s]\n",
      "The theoretical flow rate of system3 at node 6: 2.2204366046128886e-05 [kg/s]\n",
      "\n",
      "The actual flow rate at system 3: 0.05252736842105263 +- 0.006635036011080332 [kg/s]\n"
     ]
    }
   ],
   "source": [
    "# Theoretical Flow rate for system 3\n",
    "print(\"For system 3:\")\n",
    "\n",
    "Gtheo3 = []\n",
    "for i in range(5): \n",
    "    Gtheo3.append(calTheoG(A[i], A[i+1], exp3deltaH[i]))\n",
    "printing(Gtheo3, 3)\n",
    "\n",
    "# Absolute uncertainty of G\n",
    "absFlow = perFlow[2] * G[2]\n",
    "\n",
    "print(f\"\\nThe actual flow rate at system {3}: {G[2]} +- {absFlow} [kg/s]\")"
   ]
  },
  {
   "cell_type": "markdown",
   "id": "783312c0",
   "metadata": {},
   "source": [
    "Recall the discharge coefficient is the ratio between the theoretical and actual flow rate\n",
    "as in Eq (2)\n",
    "\n",
    "Because of the above assumptions, the actual flow rate, $Q_{\\text {act }}$ differs from $Q_{\\text {theo }}$ and the ratio between them is called the discharge coefficient, $\\mathrm{C}_{\\mathrm{d}}$ which can be written as $$\n",
    "C_{d}=\\frac{Q_{\\text {act }}}{Q_{\\text {theo }}} \\hspace{1cm} Eq(2)\n",
    "$$"
   ]
  },
  {
   "cell_type": "markdown",
   "id": "134c8116",
   "metadata": {},
   "source": [
    "### (Part a) Calibrate the Venturi meter and calculate the discharge coefficient (answered)"
   ]
  },
  {
   "cell_type": "code",
   "execution_count": 330,
   "id": "48e3221e",
   "metadata": {},
   "outputs": [],
   "source": [
    "def calDischarageCoeff(Gact, Gtheo, uncertainty):\n",
    "    \"\"\"The discharage coefficient is the ratio between the\n",
    "    theoretical flow rate and the actual flow rate\"\"\"\n",
    "            \n",
    "    Gactlo = Gact - uncertainty\n",
    "    Gactup = Gact + uncertainty\n",
    "    \n",
    "    return [Gactlo / Gtheo, Gact / Gtheo, Gactup / Gtheo];"
   ]
  },
  {
   "cell_type": "code",
   "execution_count": 331,
   "id": "b3962ba7",
   "metadata": {},
   "outputs": [
    {
     "name": "stdout",
     "output_type": "stream",
     "text": [
      "Betweeen node 2 and node 3\n",
      "The dischrage coefficient of system 1 [lower limit, value, upper limit]: [ 759.0514  933.9413 1108.8311]\n",
      "The dischrage coefficient of system 2 [lower limit, value, upper limit]: [683.1532 800.2229 917.2925]\n",
      "The dischrage coefficient of system 3 [lower limit, value, upper limit]: [769.5755 880.8394 992.1033]\n"
     ]
    }
   ],
   "source": [
    "# Discharge Coefficient of Systems 1, 2, and 3\n",
    "\n",
    "CD = [];\n",
    "CD.append(calDischarageCoeff(G[0], Gtheo1[1], perFlow[0] * G[0]))\n",
    "CD.append(calDischarageCoeff(G[1], Gtheo2[1], perFlow[1] * G[1]))\n",
    "CD.append(calDischarageCoeff(G[2], Gtheo3[1], perFlow[2] * G[2]))\n",
    "\n",
    "print(\"Betweeen node 2 and node 3\")\n",
    "for i in range(len(CD)): \n",
    "    val = np.round(CD[i], 4);\n",
    "    print(f'The dischrage coefficient of system {i+1} [lower limit, value, upper limit]: {val}')"
   ]
  },
  {
   "cell_type": "markdown",
   "id": "f0482a56",
   "metadata": {},
   "source": [
    "### Plot of a box-whisker diagram to show the discharge coefficient of the three experiments"
   ]
  },
  {
   "cell_type": "code",
   "execution_count": 332,
   "id": "d841fae9",
   "metadata": {},
   "outputs": [],
   "source": [
    "# Cd for experiment 1\n",
    "exp1Cdm = [G[0]/i for i in Gtheo1]\n",
    "\n",
    "# (Cd - measuremnt uncertianty) for experiment 1\n",
    "exp1Cdlo = [calDischarageCoeff(G[0], i, perFlow[0] * G[0])[0] for i in Gtheo1]\n",
    "\n",
    "# (Cd + measuremnt uncertianty) for experiment 1\n",
    "exp1Cdup = [calDischarageCoeff(G[0], i, perFlow[0] * G[0])[2] for i in Gtheo1]\n",
    "\n",
    "exp1Cd = np.concatenate((exp1Cdlo, exp1Cdm, exp1Cdup))"
   ]
  },
  {
   "cell_type": "code",
   "execution_count": 333,
   "id": "a9318f34",
   "metadata": {},
   "outputs": [],
   "source": [
    "# Cd for experiment 2\n",
    "exp2Cdm = [G[1]/i for i in Gtheo2]\n",
    "\n",
    "# (Cd - measuremnt uncertianty) for experiment 2\n",
    "exp2Cdlo = [calDischarageCoeff(G[1], i, perFlow[1] * G[1])[0] for i in Gtheo2]\n",
    "\n",
    "# (Cd + measuremnt uncertianty) for experiment 2\n",
    "exp2Cdup = [calDischarageCoeff(G[1], i, perFlow[1] * G[1])[2] for i in Gtheo2]\n",
    "\n",
    "exp2Cd = np.concatenate((exp2Cdlo, exp2Cdm, exp2Cdup))"
   ]
  },
  {
   "cell_type": "code",
   "execution_count": 334,
   "id": "c2ec9627",
   "metadata": {},
   "outputs": [],
   "source": [
    "# Cd for experiment 3\n",
    "exp3Cdm = np.array([G[2]/i for i in Gtheo3])\n",
    "\n",
    "# (Cd - measuremnt uncertianty) for experiment 3\n",
    "exp3Cdlo = np.array([calDischarageCoeff(G[2], i, perFlow[2] * G[2])[0] for i in Gtheo3])\n",
    "\n",
    "# (Cd + measuremnt uncertianty) for experiment 3\n",
    "exp3Cdup = np.array([calDischarageCoeff(G[2], i, perFlow[2] * G[2])[2] for i in Gtheo3])\n",
    "\n",
    "exp3Cd = np.concatenate((exp3Cdlo, exp3Cdm, exp3Cdup))"
   ]
  },
  {
   "cell_type": "code",
   "execution_count": 335,
   "id": "fd83b579",
   "metadata": {},
   "outputs": [],
   "source": [
    "# Calculate the sample mean\n",
    "mean1Cd = cal_mean(exp1Cd)\n",
    "mean2Cd = cal_mean(exp2Cd)\n",
    "mean3Cd = cal_mean(exp3Cd)"
   ]
  },
  {
   "cell_type": "code",
   "execution_count": 336,
   "id": "21f05f1f",
   "metadata": {},
   "outputs": [],
   "source": [
    "# Calculate the experimental standard deviation of the mean\n",
    "ssd1Cd = cal_ssd(exp1Cd)\n",
    "ssd2Cd = cal_ssd(exp2Cd)\n",
    "ssd3Cd = cal_ssd(exp3Cd)"
   ]
  },
  {
   "cell_type": "code",
   "execution_count": 337,
   "id": "3ac219eb",
   "metadata": {},
   "outputs": [
    {
     "data": {
      "image/png": "[encoded data removed]",
      "text/plain": [
       "<Figure size 432x360 with 1 Axes>"
      ]
     },
     "metadata": {
      "needs_background": "light"
     },
     "output_type": "display_data"
    }
   ],
   "source": [
    "# np.random.normal(mean, standard deviation, number of random generated samples (the larger the better))\n",
    "d1 = np.random.normal(math.floor(mean1Cd), math.floor(ssd1Cd), 500)\n",
    "d2 = np.random.normal(math.floor(mean2Cd), math.floor(ssd2Cd), 500)\n",
    "d3 = np.random.normal(math.floor(mean3Cd), math.floor(ssd3Cd), 500)\n",
    "d = [d1, d2, d3]\n",
    "\n",
    "fig = plt.figure(figsize=(6,5))\n",
    "ax = fig.add_axes([0, 0, 1, 1])\n",
    "\n",
    "ax.set_xlabel(r'Experiment i, where $i \\in \\{1, 2, 3\\}$',fontsize=16)\n",
    "ax.set_ylabel(r'$C_d$',fontsize=16,color='black')\n",
    "ax.tick_params(axis='y', labelsize=14)\n",
    "ax.tick_params(axis='x', labelsize=14)\n",
    "ax.grid(True)\n",
    "plt.title(\"Box whisker diagram representing the distribution of discharge coefficients $C_d$\")\n",
    "\n",
    "bp = ax.boxplot(d)\n",
    "plt.show()"
   ]
  },
  {
   "cell_type": "markdown",
   "id": "ac0c5b07",
   "metadata": {},
   "source": [
    "From the box whisker diagram, we can see that our discharge coefficient for experiment 1 and 2 largely deviates from the expectation values which is between zero and one. However for experiment 3, there is some values that are in the expectation range. \n",
    "\n",
    "Overall, the results are not accurate due to the errors mentioned in the below section."
   ]
  },
  {
   "cell_type": "markdown",
   "id": "f87dbefc",
   "metadata": {},
   "source": [
    "### (Part a) Do the discharge coefficient experimental values agree with the literature ones ? (answered)"
   ]
  },
  {
   "cell_type": "markdown",
   "id": "61440e31",
   "metadata": {},
   "source": [
    "The actual flow rate is much larger than the calculated theoretical flow rate, which is not sensible. \n",
    "As the large discharge coefficient suggests that energy is not conserved and there is more energy output as a result. The discharage coefficient according to literature should be between 0 and 1 which suggests the actual flow rate should always be smaller than the calculated theoretical flow rate. \n",
    "\n",
    "However, this can be explained since we use the Bernouli's equation which asssumes that liquid is not visious at all (not true); frictionless (not true); no heat transfer or work done on the fluid (not true due to inconsistent pump); steady flow (not true); incompressible fluid (true).\n",
    "\n",
    "\n"
   ]
  },
  {
   "cell_type": "markdown",
   "id": "92494847",
   "metadata": {},
   "source": [
    "### (Part b) Investigate the pressure changes along the Venturi meter and give a graphical representation of the pressure distribution (answered)\n",
    "\n",
    "Recall the difference in the piezometric head, exp1deltaH, exp2deltaH, and exp3deltaH.\n",
    "To calculate the pressure difference, we just need to rearrange the following: \n",
    "\n",
    "$\\frac{P_{1}-P_{2}}{\\rho g}+\\left(Z_{1}-Z_{2}\\right) = \\Delta h$ \n",
    "\n",
    "Since $Z_1 = Z_2$, such that $\\Delta P = \\Delta h \\cdot \\rho \\cdot g$\n",
    "\n",
    "The conversion factor from Pa to [mmH2O] is 9.80665 [2].\n",
    "The density of water at 21 [deg C] is at 998.02 [kg / m^3] [3]. \n",
    "\n",
    "[2]: “Pa (pascals) to mmH2O Conversion Table,” www.sensorsone.com. https://www.sensorsone.com/pa-to-mmh2o-conversion-table/ (accessed Feb. 18, 2023).\n",
    "\n",
    "[3]: Water Science School, “Water Density | U.S. Geological Survey,” USGS, Jun. 05, 2018. https://www.usgs.gov/special-topics/water-science-school/science/water-density ."
   ]
  },
  {
   "cell_type": "markdown",
   "id": "194f3301",
   "metadata": {},
   "source": [
    "#### Difference in pressure at nodes 1 to 6 for experiments 1, 2, and 3"
   ]
  },
  {
   "cell_type": "code",
   "execution_count": 338,
   "id": "1b046a8e",
   "metadata": {},
   "outputs": [
    {
     "name": "stdout",
     "output_type": "stream",
     "text": [
      "Pressure difference for exp1 between nodes 1 and 2 is 14975.4139 [mmH2O]\n",
      "Pressure difference for exp1 between nodes 2 and 3 is 214813.9931 [mmH2O]\n",
      "Pressure difference for exp1 between nodes 3 and 4 is -132615.61 [mmH2O]\n",
      "Pressure difference for exp1 between nodes 4 and 5 is -24792.6297 [mmH2O]\n",
      "Pressure difference for exp1 between nodes 5 and 6 is -9817.2158 [mmH2O]\n",
      "\n",
      "\n",
      "Pressure difference for exp2 between nodes 1 and 2  is 4825.4112 [mmH2O]\n",
      "Pressure difference for exp2 between nodes 2 and 3  is 82364.7766 [mmH2O]\n",
      "Pressure difference for exp2 between nodes 3 and 4  is -46590.1767 [mmH2O]\n",
      "Pressure difference for exp2 between nodes 4 and 5  is -8985.2484 [mmH2O]\n",
      "Pressure difference for exp2 between nodes 5 and 6  is -3494.2632 [mmH2O]\n",
      "\n",
      "\n",
      "Pressure difference for exp3 between nodes 1 and 2  is 2828.6893 [mmH2O]\n",
      "Pressure difference for exp3 between nodes 2 and 3  is 21963.9404 [mmH2O]\n",
      "Pressure difference for exp3 between nodes 3 and 4  is -10649.1832 [mmH2O]\n",
      "Pressure difference for exp3 between nodes 4 and 5  is -3327.8698 [mmH2O]\n",
      "Pressure difference for exp3 between nodes 5 and 6  is -166.3935 [mmH2O]\n"
     ]
    }
   ],
   "source": [
    "\n",
    "exp1deltaP = [9.81 * 998.02 * i / 9.80665 for i in exp1deltaH]\n",
    "exp2deltaP = [9.81 * 998.02 * i / 9.80665 for i in exp2deltaH]\n",
    "exp3deltaP = [9.81 * 998.02 * i / 9.80665 for i in exp3deltaH]\n",
    "\n",
    "for i in range(len(exp1deltaP)):\n",
    "    val = round(exp1deltaP[i], 4)\n",
    "    print(f\"Pressure difference for exp1 between nodes {i+1} and {i+2} is {val} [mmH2O]\")\n",
    "    \n",
    "print(\"\\n\")\n",
    "for i in range(len(exp2deltaP)):\n",
    "    val = round(exp2deltaP[i], 4)\n",
    "    print(f\"Pressure difference for exp2 between nodes {i+1} and {i+2}  is {val} [mmH2O]\")\n",
    "\n",
    "print(\"\\n\")\n",
    "for i in range(len(exp3deltaP)):\n",
    "    val = round(exp3deltaP[i], 4)\n",
    "    print(f\"Pressure difference for exp3 between nodes {i+1} and {i+2}  is {val} [mmH2O]\")"
   ]
  },
  {
   "cell_type": "code",
   "execution_count": 339,
   "id": "d8ac30fe",
   "metadata": {},
   "outputs": [
    {
     "data": {
      "image/png": "[encoded data removed]",
      "text/plain": [
       "<Figure size 720x504 with 1 Axes>"
      ]
     },
     "metadata": {
      "needs_background": "light"
     },
     "output_type": "display_data"
    },
    {
     "name": "stdout",
     "output_type": "stream",
     "text": [
      "\n"
     ]
    }
   ],
   "source": [
    "nodes = [\"nodes 1 & 2\", \n",
    "         \"nodes 2 & 3\", \n",
    "         \"nodes 3 & 4\",\n",
    "         \"nodes 4 & 5\",\n",
    "         \"nodes 5 & 6\"]\n",
    "(fig, ax1) = plt.subplots(1, figsize=(10, 7))\n",
    "\n",
    "ax1.plot(nodes,exp1deltaP,'r-',label='$G_1 =$ '+str(round(G[0], 4)) + '[$\\dfrac{kg}{s}$]')\n",
    "ax1.plot(nodes,exp2deltaP,'b-',label='$G_2 =$ '+str(round(G[1], 4)) + '[$\\dfrac{kg}{s}$]')\n",
    "ax1.plot(nodes,exp3deltaP,'y-',label='$G_3 =$ '+str(round(G[2], 4)) + '[$\\dfrac{kg}{s}$]')\n",
    "ax1.set_xlabel(r'Nodes i and j, where $i \\neq j$',fontsize=16)\n",
    "ax1.set_ylabel(r'$P$ [mmH2O]',fontsize=16,color='black')\n",
    "ax1.tick_params(axis='y', labelsize=14)\n",
    "ax1.tick_params(axis='x', labelsize=14)\n",
    "ax1.legend(loc='upper right',fontsize=12)\n",
    "ax1.grid(True)\n",
    "\n",
    "plt.title('Distributions of hydrostatic pressure changes over the Venturi tube axis for of the three inlet flowrates.', \n",
    "          fontsize=15)\n",
    "fig.tight_layout()  # otherwise the right y-label is slightly clipped\n",
    "plt.show()\n",
    "print('')"
   ]
  },
  {
   "cell_type": "markdown",
   "id": "37dbb989",
   "metadata": {},
   "source": [
    "## (Part c) Estimate the permanent pressure loss along the Venturi meter. (answered)\n",
    "$\\\\\\\\$\n",
    "<!-- Basu, Swapan Debnath, Ajay Kumar. (2019). Power Plant Instrumentation and Control Handbook - A Guide to Thermal Power Plants (2nd Edition) - 4.4.2.4 Orifice Plate. (pp. 282, 283, 284, 285). Elsevier. Retrieved from \n",
    "https://app.knovel.com/hotlink/pdf/id:kt0122PUY8/power-plant-instrumentation/orifice-plate -->\n",
    "\n",
    "To measure the permanent pressure loss in a differential pressure flowmeter like the Venturi meter, one can compare the differential pressure meters by the beta ratio which is the ratio of the smallest open area to the laragest open area in the meter. \n",
    "$\\beta = \\dfrac{d}{D}$, where $d$ is the Venturi throat diameter and $D$ is the upstream and downstream pipe diameter.\n",
    "\n",
    "In our case, $d = \\sqrt{\\dfrac{A_3 \\cdot 4}{\\pi}} [mm]$, $D = \\sqrt{\\dfrac{A_1 \\cdot 4}{\\pi}} [mm]$, such that the beta ratio [4]: \n",
    "$\\beta = \\dfrac{d}{D} = \\sqrt{\\dfrac{A_3}{A_1}} = 0.49985$. From figure 2 in [5], we can deduce that there is a 10% premanent pressure loss of the differential pressure created (Venturi with an exit angle of $7^\\circ$).\n",
    "\n",
    "[4]: Basu, Swapan Debnath, Ajay Kumar. (2019). Power Plant Instrumentation and Control Handbook - A Guide to Thermal Power Plants (2nd Edition) - 4.4.2.2 The Venturi Meter. (pp. 283). Elsevier. Retrieved from\n",
    "https://app.knovel.com/hotlink/pdf/id:kt0122PUW1/power-plant-instrumentation/the-venturi-meter\n",
    "\n",
    "[5]: S. Ifft, “Permanent Pressure Loss Comparison Among Various Flowmeter Technologies.” Available: http://www.nciweb.net/mccrometer_pdfs/Vc/24508-39.pdf"
   ]
  },
  {
   "cell_type": "code",
   "execution_count": 340,
   "id": "d8e73e1b",
   "metadata": {},
   "outputs": [
    {
     "name": "stdout",
     "output_type": "stream",
     "text": [
      "The permanent pressure loss for exp 1: 22978.940705541652 [mmH2O]\n",
      "The permanent pressure loss for exp 2: 8719.018776034629 [mmH2O]\n",
      "The permanent pressure loss for exp 3: 2479.262972574732 [mmH2O]\n"
     ]
    }
   ],
   "source": [
    "# The differential pressure created between nodes 1 and 3 for each experiment are: \n",
    "diffPexp1 = exp1deltaP[0] + exp1deltaP[1]\n",
    "diffPexp2 = exp2deltaP[0] + exp2deltaP[1]\n",
    "diffPexp3 = exp3deltaP[0] + exp3deltaP[1]\n",
    "\n",
    "# Permanent pressure loss along the Venturi meter for each experiment\n",
    "PermPloss1 = diffPexp1 * 0.1\n",
    "PermPloss2 = diffPexp2 * 0.1\n",
    "PermPloss3 = diffPexp3 * 0.1\n",
    "\n",
    "print(f\"The permanent pressure loss for exp 1: {PermPloss1} [mmH2O]\")\n",
    "print(f\"The permanent pressure loss for exp 2: {PermPloss2} [mmH2O]\")\n",
    "print(f\"The permanent pressure loss for exp 3: {PermPloss3} [mmH2O]\")\n"
   ]
  },
  {
   "cell_type": "markdown",
   "id": "aed1751f",
   "metadata": {},
   "source": [
    "## (Part c) Estimate the losses for the same length of pipe if the diameter remains constant (assuming smooth pipe). (answered) \n",
    "\n",
    "If the diameter remains constnant, such that the beta ratio is 1. If we also assume that a smooth pipe. \n",
    "Then we can use the Darcy friction factor $f$ to find out the pressure loss. \n",
    "\n",
    "$f = \\dfrac{\\Delta P}{P_{dyn}} \\cdot \\dfrac{d}{L}$, where $P_{dyn} = \\dfrac{\\rho \\cdot \\overline{v}^2}{2}$\n",
    "\n",
    "\n",
    "[5]: tec-science, “Pressure loss in pipe systems (Darcy friction factor),” tec-science, Jul. 01, 2020. https://www.tec-science.com/mechanics/gases-and-liquids/pressure-loss-in-pipe-systems/\n"
   ]
  },
  {
   "cell_type": "markdown",
   "id": "8ca03391",
   "metadata": {},
   "source": [
    "#### Pressure Loss $\\Delta P$ between nodes 1 and 6 "
   ]
  },
  {
   "cell_type": "code",
   "execution_count": 341,
   "id": "cfd59acd",
   "metadata": {},
   "outputs": [
    {
     "name": "stdout",
     "output_type": "stream",
     "text": [
      "Pressure loss between nodes 1 and 6 for exp 1: 62563.95152269126 [mmH2O]\n",
      "Pressure loss between nodes 1 and 6 for exp 2: 28120.49948759258 [mmH2O]\n",
      "Pressure loss between nodes 1 and 6 for exp 3: 10649.183237904883 [mmH2O]\n"
     ]
    }
   ],
   "source": [
    "Pdiff1 = sum(exp1deltaP)\n",
    "Pdiff2 = sum(exp2deltaP)\n",
    "Pdiff3 = sum(exp3deltaP)\n",
    "print(f\"Pressure loss between nodes 1 and 6 for exp 1: {Pdiff1} [mmH2O]\")\n",
    "print(f\"Pressure loss between nodes 1 and 6 for exp 2: {Pdiff2} [mmH2O]\")\n",
    "print(f\"Pressure loss between nodes 1 and 6 for exp 3: {Pdiff3} [mmH2O]\")"
   ]
  },
  {
   "cell_type": "markdown",
   "id": "358498c6",
   "metadata": {},
   "source": [
    "#### Mean flow velocity"
   ]
  },
  {
   "cell_type": "code",
   "execution_count": 342,
   "id": "a17a6e51",
   "metadata": {},
   "outputs": [
    {
     "name": "stdout",
     "output_type": "stream",
     "text": [
      "Mean velocity for exp 1 is 514.3961018009687 [ms^(-1)]\n",
      "Mean velocity for exp 2 is 272.9157095666251 [ms^(-1)]\n",
      "Mean velocity for exp 3 is 155.1310349115553 [ms^(-1)]\n"
     ]
    }
   ],
   "source": [
    "meanV1 = G[0] / A[0]\n",
    "meanV2 = G[1] / A[0]\n",
    "meanV3 = G[2] / A[0]\n",
    "print(f\"Mean velocity for exp 1 is {meanV1} [ms^(-1)]\")\n",
    "print(f\"Mean velocity for exp 2 is {meanV2} [ms^(-1)]\")\n",
    "print(f\"Mean velocity for exp 3 is {meanV3} [ms^(-1)]\")"
   ]
  },
  {
   "cell_type": "markdown",
   "id": "c45f537b",
   "metadata": {},
   "source": [
    "#### Darcy friction factor"
   ]
  },
  {
   "cell_type": "code",
   "execution_count": 343,
   "id": "eacec386",
   "metadata": {},
   "outputs": [],
   "source": [
    "def calDarcyf(delP, meanV, d=20.763, L=212, rho=998.02):\n",
    "    \"\"\"Return the darcy friction factor\"\"\"\n",
    "    d = d * 1e-3\n",
    "    Pdy = rho * meanV / 2\n",
    "    tmp1 = delP * d\n",
    "    tmp2 = Pdy * L * 1e-3\n",
    "    return tmp1 / tmp2;"
   ]
  },
  {
   "cell_type": "code",
   "execution_count": 344,
   "id": "712c3d23",
   "metadata": {},
   "outputs": [
    {
     "name": "stdout",
     "output_type": "stream",
     "text": [
      "Darcy friction factor for exp1 is 0.02387104856193774\n",
      "Darcy friction factor for exp2 is 0.020222716309851434\n",
      "Darcy friction factor for exp3 is 0.013472947092252547\n"
     ]
    }
   ],
   "source": [
    "f1 = calDarcyf(Pdiff1, meanV1)\n",
    "f2 = calDarcyf(Pdiff2, meanV2)\n",
    "f3 = calDarcyf(Pdiff3, meanV3)\n",
    "\n",
    "print(f\"Darcy friction factor for exp1 is {f1}\")\n",
    "print(f\"Darcy friction factor for exp2 is {f2}\")\n",
    "print(f\"Darcy friction factor for exp3 is {f3}\")"
   ]
  },
  {
   "cell_type": "markdown",
   "id": "0f13b016",
   "metadata": {},
   "source": [
    "#### Pressure loss in a straight pipe section \n",
    "$\\Delta p = f \\cdot \\dfrac{8\\rho L}{\\pi^2} \\cdot \\dfrac{G^2}{d^5}$\n",
    "\n",
    "The pressure loss is inversely proportional to the dimameter to the fifth power. \n",
    "The larger the diameter, the lower the pressure drop.\n",
    "However, the friction factor is depednent on the flow velocity. \n",
    "The flow velocity is dependent on the volumetric flow rate and the pipe diameter.\n",
    "\n",
    "[5]: tec-science, “Pressure loss in pipe systems (Darcy friction factor),” tec-science, Jul. 01, 2020. https://www.tec-science.com/mechanics/gases-and-liquids/pressure-loss-in-pipe-systems/"
   ]
  },
  {
   "cell_type": "code",
   "execution_count": 345,
   "id": "0a673a2d",
   "metadata": {},
   "outputs": [],
   "source": [
    "def calPressureLoss(f, G, d=20.763, L=212, rho=998.02):\n",
    "    \"\"\"Return the presure loss\"\"\"\n",
    "    \n",
    "    d = d * 1e-3\n",
    "    L = L * 1e-3\n",
    "    tmp1 = f\n",
    "    tmp2 = 8 * rho * L / (math.pi**2)\n",
    "    tmp3 = G**2 / d**5\n",
    "    return tmp1 * tmp2 * tmp3"
   ]
  },
  {
   "cell_type": "code",
   "execution_count": 346,
   "id": "147754a9",
   "metadata": {},
   "outputs": [
    {
     "name": "stdout",
     "output_type": "stream",
     "text": [
      "Pressure loss estimate for exp1 is 32185152.301597618 [mmH2O]\n",
      "Pressure loss estimate for exp2 is 7675122.127240458 [mmH2O]\n",
      "Pressure loss estimate for exp3 is 1652147.123746062 [mmH2O]\n"
     ]
    }
   ],
   "source": [
    "p1 = calPressureLoss(f1, G[0])\n",
    "p2 = calPressureLoss(f2, G[1])\n",
    "p3 = calPressureLoss(f3, G[2])\n",
    "\n",
    "print(f\"Pressure loss estimate for exp1 is {p1} [mmH2O]\")\n",
    "print(f\"Pressure loss estimate for exp2 is {p2} [mmH2O]\")\n",
    "print(f\"Pressure loss estimate for exp3 is {p3} [mmH2O]\")"
   ]
  },
  {
   "cell_type": "markdown",
   "id": "eae6eb4e",
   "metadata": {},
   "source": [
    "## (Part c) Identify the type of flow. (answered)\n",
    "\n",
    "The reynolds number that represent the flow in the venturi meter [6] can be expressed as:\n",
    "\n",
    "$Re = \\dfrac{4G_{act}}{\\pi d \\mu}$, where Re is the Reynolds number [n.d.], $\\mu$ is the viscosity $[Pa \\cdot s]$, d is the throat diameter [m]\n",
    "\n",
    "The type of flow can be determined by the Moody chart [7]. \n",
    "\n",
    "[6]: S. S. Hutagalung, “Estimation Optimal Value of Discharge Coefficient in a Venturi Tubes,” Journal of Physics: Conference Series, vol. 1230, p. 012087, Jul. 2019, doi: https://doi.org/10.1088/1742-6596/1230/1/012087.\n",
    "\n",
    "[7]: Wikipedia Contributors, “Moody chart,” Wikipedia, Nov. 14, 2019. https://en.wikipedia.org/wiki/Moody_chart.\n"
   ]
  },
  {
   "cell_type": "markdown",
   "id": "3a6bfb9e",
   "metadata": {},
   "source": [
    "#### Calculate the Reynolds number for each experiment"
   ]
  },
  {
   "cell_type": "code",
   "execution_count": 347,
   "id": "5dff8e09",
   "metadata": {},
   "outputs": [],
   "source": [
    "def calRey(Gact, d, mu=0.01):\n",
    "    \"\"\"Return the Reynolds number of the venturi meter\"\"\"\n",
    "    \n",
    "    tmp1 = 4 * Gact\n",
    "    tmp2 = math.pi * d * 1e-3 * mu\n",
    "        \n",
    "    return tmp1/tmp2;\n",
    "\n",
    "\n",
    "def flowtype(R):\n",
    "    \"\"\"Determine the flow type by the Moody Chart\"\"\"\n",
    "    if (R <= 2000):\n",
    "        return \"laminar\"\n",
    "\n",
    "    if (R < 2000  and R > 5000):\n",
    "        return \"in transition state\"\n",
    "    \n",
    "    if (R > 5000):\n",
    "        return \"turbulent\""
   ]
  },
  {
   "cell_type": "code",
   "execution_count": 348,
   "id": "4314347b",
   "metadata": {},
   "outputs": [
    {
     "name": "stdout",
     "output_type": "stream",
     "text": [
      "The Reynolds number of the Venturi meter for exp1 is 262.1346177755884 and flow is laminar\n",
      "The Reynolds number of the Venturi meter for exp2 is 139.0769777642705 and flow is laminar\n",
      "The Reynolds number of the Venturi meter for exp3 is 79.05428209758536 and flow is laminar\n"
     ]
    }
   ],
   "source": [
    "Re1 = calRey(G[0], 84.6)\n",
    "Re2 = calRey(G[1], 84.6)\n",
    "Re3 = calRey(G[2], 84.6)\n",
    "\n",
    "print(f\"The Reynolds number of the Venturi meter for exp1 is {Re1} and flow is {flowtype(Re1)}\")\n",
    "print(f\"The Reynolds number of the Venturi meter for exp2 is {Re2} and flow is {flowtype(Re2)}\")\n",
    "print(f\"The Reynolds number of the Venturi meter for exp3 is {Re3} and flow is {flowtype(Re3)}\")\n"
   ]
  },
  {
   "cell_type": "markdown",
   "id": "63373ebd",
   "metadata": {},
   "source": [
    "## (Part d) Estimate the profile of the maximum velocity along the Venturi meter. (answered)\n",
    "\n",
    "Since the flow is laminar and the pipe is circular. \n",
    "\n",
    "If we now assume that no slip boundary conditions at the wall, negligible end effects ($ L >> r_0$), steady state, water has constant viscosity, one-dimensional laminar flow.\n",
    "\n",
    "We know that from the CENG0003 notes 12 Mic Bal Eq - Momentum Notes (Eq12-28 and Eq12-29), the maximum velocity can be calculated as follows:\n",
    "\n",
    "$u = u_{max} = \\dfrac{r_0^2}{4 \\mu} \\cdot (-\\dfrac{dp}{dx}) \\hspace{1cm} \\text{Eqn 12-28}$ \n",
    "\n",
    "$\\dfrac{u}{u_{max}} = 1 - (\\dfrac{r}{r_0})^2 \\hspace{1cm} \\text{Eqn 12-29}$ \n"
   ]
  },
  {
   "cell_type": "markdown",
   "id": "f94de7d5",
   "metadata": {},
   "source": [
    "#### Calculate the tube radius at each node"
   ]
  },
  {
   "cell_type": "code",
   "execution_count": 374,
   "id": "0829936f",
   "metadata": {},
   "outputs": [
    {
     "name": "stdout",
     "output_type": "stream",
     "text": [
      "The tube radius at node 1 is 0.0208 [mm]\n",
      "The tube radius at node 2 is 0.0172 [mm]\n",
      "The tube radius at node 3 is 0.0104 [mm]\n",
      "The tube radius at node 4 is 0.0147 [mm]\n",
      "The tube radius at node 5 is 0.018 [mm]\n",
      "The tube radius at node 6 is 0.0208 [mm]\n"
     ]
    }
   ],
   "source": [
    "def calRadius(Area):\n",
    "    \"\"\"Return the tube radius [mm] given CSA of tube\"\"\"\n",
    "    \n",
    "    return math.sqrt(Area * 4 / math.pi)\n",
    "\n",
    "\n",
    "# r = [r1, r2, r3, r4, r5, r6], where ri [mm] is the tube radius at node i\n",
    "r = [calRadius(i) for i in A]\n",
    "\n",
    "for i in range(len(r)):\n",
    "    print(f\"The tube radius at node {i+1} is {round(r[i], 4)} [mm]\")\n"
   ]
  },
  {
   "cell_type": "markdown",
   "id": "16cc42ef",
   "metadata": {},
   "source": [
    "#### Calculate the velocity at each node"
   ]
  },
  {
   "cell_type": "code",
   "execution_count": 375,
   "id": "12b59291",
   "metadata": {},
   "outputs": [],
   "source": [
    "def calmeanV(Q, CSA):\n",
    "    \"\"\"Return the velocity [ms^(-1)] at the specified cross sectional area CSA\"\"\"\n",
    "\n",
    "    \n",
    "    Q /= 998.02; # convert from [kg / s] to [m^3/s]\n",
    "    \n",
    "    return Q / CSA\n"
   ]
  },
  {
   "cell_type": "code",
   "execution_count": 376,
   "id": "1901e447",
   "metadata": {},
   "outputs": [],
   "source": [
    "def printing(lst_v, expno):\n",
    "    \"\"\"print out the velocity results for each experiment at each node\"\"\"\n",
    "    \n",
    "    for i in range(len(lst_v)):\n",
    "        print(f\"The velocity at node {i+1} for experiment {expno} is {round(lst_v[i], 2)}[ms^(-1)]\")\n",
    "    print(\"\\n\")\n",
    "    "
   ]
  },
  {
   "cell_type": "code",
   "execution_count": 377,
   "id": "b6eb6d6b",
   "metadata": {},
   "outputs": [
    {
     "name": "stdout",
     "output_type": "stream",
     "text": [
      "The velocity at node 1 for experiment 1 is 0.52[ms^(-1)]\n",
      "The velocity at node 2 for experiment 1 is 0.75[ms^(-1)]\n",
      "The velocity at node 3 for experiment 1 is 2.06[ms^(-1)]\n",
      "The velocity at node 4 for experiment 1 is 1.03[ms^(-1)]\n",
      "The velocity at node 5 for experiment 1 is 0.68[ms^(-1)]\n",
      "The velocity at node 6 for experiment 1 is 0.52[ms^(-1)]\n",
      "\n",
      "\n"
     ]
    }
   ],
   "source": [
    "# Experiment 1\n",
    "v1 = [calmeanV(G[0], i) for i in A]\n",
    "printing(v1, 1)"
   ]
  },
  {
   "cell_type": "code",
   "execution_count": 378,
   "id": "a338a1ea",
   "metadata": {},
   "outputs": [
    {
     "name": "stdout",
     "output_type": "stream",
     "text": [
      "The velocity at node 1 for experiment 2 is 0.27[ms^(-1)]\n",
      "The velocity at node 2 for experiment 2 is 0.4[ms^(-1)]\n",
      "The velocity at node 3 for experiment 2 is 1.09[ms^(-1)]\n",
      "The velocity at node 4 for experiment 2 is 0.54[ms^(-1)]\n",
      "The velocity at node 5 for experiment 2 is 0.36[ms^(-1)]\n",
      "The velocity at node 6 for experiment 2 is 0.27[ms^(-1)]\n",
      "\n",
      "\n"
     ]
    }
   ],
   "source": [
    "# Experiment 2\n",
    "v2 = [calmeanV(G[1], i) for i in A]\n",
    "printing(v2, 2)"
   ]
  },
  {
   "cell_type": "code",
   "execution_count": 379,
   "id": "a6ed2cf0",
   "metadata": {},
   "outputs": [
    {
     "name": "stdout",
     "output_type": "stream",
     "text": [
      "The velocity at node 1 for experiment 3 is 0.16[ms^(-1)]\n",
      "The velocity at node 2 for experiment 3 is 0.23[ms^(-1)]\n",
      "The velocity at node 3 for experiment 3 is 0.62[ms^(-1)]\n",
      "The velocity at node 4 for experiment 3 is 0.31[ms^(-1)]\n",
      "The velocity at node 5 for experiment 3 is 0.21[ms^(-1)]\n",
      "The velocity at node 6 for experiment 3 is 0.16[ms^(-1)]\n",
      "\n",
      "\n"
     ]
    }
   ],
   "source": [
    "# Experiment 3\n",
    "v3 = [calmeanV(G[2], i) for i in A]\n",
    "printing(v3, 3)"
   ]
  },
  {
   "cell_type": "markdown",
   "id": "d42d5690",
   "metadata": {},
   "source": [
    "### Calculate the maximum velocity at each node\n",
    "\n",
    "Recall $\\dfrac{u}{u_{max}} = 1 - (\\dfrac{r}{r_0})^2 \\hspace{1cm} \\text{Eqn 12-29}$ \n"
   ]
  },
  {
   "cell_type": "code",
   "execution_count": 380,
   "id": "b67fc957",
   "metadata": {},
   "outputs": [],
   "source": [
    "def cal_umax(u, r, r0=0.020763403137427305):\n",
    "    \"\"\"Return the maximum velocity [ms^(-1)] at each node\"\"\"\n",
    "    \n",
    "    tmp1 = 1 - (r/r0)**2\n",
    "    if (tmp1 == 0): return u\n",
    "    return u / tmp1\n"
   ]
  },
  {
   "cell_type": "code",
   "execution_count": 381,
   "id": "1055f2e7",
   "metadata": {},
   "outputs": [],
   "source": [
    "def printing1(lst_v, expno):\n",
    "    \"\"\"print out the maximum velocity results for each experiment at each node\"\"\"\n",
    "    \n",
    "    for i in range(len(lst_v)):\n",
    "        print(f\"The maximum velocity at node {i+1} for experiment {expno} is {round(lst_v[i], 2)}[ms^(-1)]\")\n",
    "    print(\"\\n\")"
   ]
  },
  {
   "cell_type": "code",
   "execution_count": 382,
   "id": "0d15a65f",
   "metadata": {},
   "outputs": [
    {
     "name": "stdout",
     "output_type": "stream",
     "text": [
      "The maximum velocity at node 1 for experiment 1 is 0.52[ms^(-1)]\n",
      "The maximum velocity at node 2 for experiment 1 is 2.41[ms^(-1)]\n",
      "The maximum velocity at node 3 for experiment 1 is 2.75[ms^(-1)]\n",
      "The maximum velocity at node 4 for experiment 1 is 2.06[ms^(-1)]\n",
      "The maximum velocity at node 5 for experiment 1 is 2.78[ms^(-1)]\n",
      "The maximum velocity at node 6 for experiment 1 is 0.52[ms^(-1)]\n",
      "\n",
      "\n"
     ]
    }
   ],
   "source": [
    "# Experiment 1\n",
    "vmax1 = []\n",
    "for i in range(6):\n",
    "    vmax1.append(cal_umax(v1[i], r[i]))\n",
    "    \n",
    "printing1(vmax1, 1)"
   ]
  },
  {
   "cell_type": "code",
   "execution_count": 383,
   "id": "738924d5",
   "metadata": {},
   "outputs": [
    {
     "name": "stdout",
     "output_type": "stream",
     "text": [
      "The maximum velocity at node 1 for experiment 2 is 0.27[ms^(-1)]\n",
      "The maximum velocity at node 2 for experiment 2 is 1.28[ms^(-1)]\n",
      "The maximum velocity at node 3 for experiment 2 is 1.46[ms^(-1)]\n",
      "The maximum velocity at node 4 for experiment 2 is 1.09[ms^(-1)]\n",
      "The maximum velocity at node 5 for experiment 2 is 1.47[ms^(-1)]\n",
      "The maximum velocity at node 6 for experiment 2 is 0.27[ms^(-1)]\n",
      "\n",
      "\n"
     ]
    }
   ],
   "source": [
    "# Experiment 2\n",
    "vmax2 = []\n",
    "for i in range(6):\n",
    "    vmax2.append(cal_umax(v2[i], r[i]))\n",
    "    \n",
    "printing1(vmax2, 2)"
   ]
  },
  {
   "cell_type": "code",
   "execution_count": 384,
   "id": "096ea05e",
   "metadata": {},
   "outputs": [
    {
     "name": "stdout",
     "output_type": "stream",
     "text": [
      "The maximum velocity at node 1 for experiment 3 is 0.16[ms^(-1)]\n",
      "The maximum velocity at node 2 for experiment 3 is 0.73[ms^(-1)]\n",
      "The maximum velocity at node 3 for experiment 3 is 0.83[ms^(-1)]\n",
      "The maximum velocity at node 4 for experiment 3 is 0.62[ms^(-1)]\n",
      "The maximum velocity at node 5 for experiment 3 is 0.84[ms^(-1)]\n",
      "The maximum velocity at node 6 for experiment 3 is 0.16[ms^(-1)]\n",
      "\n",
      "\n"
     ]
    }
   ],
   "source": [
    "# Experiment 3\n",
    "vmax3 = []\n",
    "for i in range(6):\n",
    "    vmax3.append(cal_umax(v3[i], r[i]))\n",
    "    \n",
    "printing1(vmax3, 3)"
   ]
  },
  {
   "cell_type": "code",
   "execution_count": 385,
   "id": "6d6cdea0",
   "metadata": {},
   "outputs": [
    {
     "data": {
      "image/png": "[encoded data removed]",
      "text/plain": [
       "<Figure size 648x432 with 1 Axes>"
      ]
     },
     "metadata": {
      "needs_background": "light"
     },
     "output_type": "display_data"
    },
    {
     "name": "stdout",
     "output_type": "stream",
     "text": [
      "\n"
     ]
    }
   ],
   "source": [
    "nodes = [1, 2, 3, 4, 5, 6] \n",
    "\n",
    "(fig, ax1) = plt.subplots(1, figsize=(9, 6))\n",
    "\n",
    "color = ['red', 'black', 'blue', 'yellow', 'green', 'orange']    \n",
    "\n",
    "ax1.plot(nodes,v1,color[0], label='Exp 1  v' + '  [$\\dfrac{m}{s}$]')\n",
    "ax1.plot(nodes,vmax1,color[1], label='Exp 1  $v_{max}$'+ '  [$\\dfrac{m}{s}$]')\n",
    "\n",
    "ax1.plot(nodes,v2,color[2], label='Exp 2  v' + '  [$\\dfrac{m}{s}$]')\n",
    "ax1.plot(nodes,vmax2,color[3], label='Exp 2  $v_{max}$'+ '  [$\\dfrac{m}{s}$]')\n",
    "\n",
    "ax1.plot(nodes,v3,color[4], label='Exp 3  v' + '  [$\\dfrac{m}{s}$]')\n",
    "ax1.plot(nodes,vmax3,color[5], label='Exp 3  $v_{max}$'+ '  [$\\dfrac{m}{s}$]')\n",
    "\n",
    "\n",
    "ax1.set_xlabel(r'Node i, where $i \\in \\{1, 2, 3, 4, 5, 6\\}$',fontsize=16)\n",
    "ax1.set_ylabel(r'velocity  '+'$[\\dfrac{m}{s}]$ ',fontsize=16,color='black')\n",
    "\n",
    "ax1.tick_params(axis='y', labelsize=14)\n",
    "ax1.tick_params(axis='x', labelsize=14)\n",
    "\n",
    "ax1.legend(loc='upper right', fontsize=10)\n",
    "ax1.grid(True)\n",
    "\n",
    "plt.title('Profile of maximum velocity along the Venturi meter in three experiments', fontsize=15)\n",
    "fig.tight_layout()  # otherwise the right y-label is slightly clipped\n",
    "plt.show()\n",
    "print('')"
   ]
  },
  {
   "cell_type": "markdown",
   "id": "3a807092",
   "metadata": {},
   "source": [
    "\n",
    "## (Part d) Calculate the maximum and average velocity at different locations and Reynolds numbers from theory. (answered)\n",
    "\n",
    "From theory, we will use the theoretical calculated flow rate, found in part A instead. But the calculations should be the same.\n"
   ]
  },
  {
   "cell_type": "markdown",
   "id": "ed132975",
   "metadata": {},
   "source": [
    "#### Calculate the thoretical average velocity at each node for three experiments"
   ]
  },
  {
   "cell_type": "code",
   "execution_count": 409,
   "id": "beba1c3a",
   "metadata": {},
   "outputs": [],
   "source": [
    "def printing2(lst, expno):\n",
    "    \"\"\"print out the average velocity results for part d in theory\"\"\"\n",
    "    for i in range(len(lst)):\n",
    "        print(f\"Theoretical average velocity at node {i+1} for {expno} is {round(lst[i], 4)} [ms^(-1)]\")\n",
    "    "
   ]
  },
  {
   "cell_type": "code",
   "execution_count": 410,
   "id": "7f62f652",
   "metadata": {},
   "outputs": [
    {
     "name": "stdout",
     "output_type": "stream",
     "text": [
      "Theoretical average velocity at node 1 for 1 is 0.0005 [ms^(-1)]\n",
      "Theoretical average velocity at node 2 for 1 is 0.0008 [ms^(-1)]\n",
      "Theoretical average velocity at node 3 for 1 is 0.0022 [ms^(-1)]\n",
      "Theoretical average velocity at node 4 for 1 is 0.0009 [ms^(-1)]\n",
      "Theoretical average velocity at node 5 for 1 is 0.0006 [ms^(-1)]\n",
      "Theoretical average velocity at node 6 for 1 is 0.0005 [ms^(-1)]\n"
     ]
    }
   ],
   "source": [
    "# Experiment 1\n",
    "vtheo1 = [(Gtheo1[4]/988.02/A[0])] # [kg / s] to [m^3/ s] then divide by [m^2]\n",
    "for i in range(5):\n",
    "    vtheo1.append(Gtheo1[i]/988.02/A[i+1])\n",
    "    #print(f\"Theoretical average velocity at node {i+1]}\")\n",
    "    \n",
    "printing2(vtheo1, 1)"
   ]
  },
  {
   "cell_type": "code",
   "execution_count": 411,
   "id": "98ee3f8f",
   "metadata": {},
   "outputs": [
    {
     "name": "stdout",
     "output_type": "stream",
     "text": [
      "Theoretical average velocity at node 1 for 2 is 0.0003 [ms^(-1)]\n",
      "Theoretical average velocity at node 2 for 2 is 0.0004 [ms^(-1)]\n",
      "Theoretical average velocity at node 3 for 2 is 0.0014 [ms^(-1)]\n",
      "Theoretical average velocity at node 4 for 2 is 0.0006 [ms^(-1)]\n",
      "Theoretical average velocity at node 5 for 2 is 0.0004 [ms^(-1)]\n",
      "Theoretical average velocity at node 6 for 2 is 0.0003 [ms^(-1)]\n"
     ]
    }
   ],
   "source": [
    "# Experiment 2\n",
    "vtheo2 = [(Gtheo2[4]/988.02/A[0])] # [kg / s] to [m^3/ s] then divide by [m^2]\n",
    "for i in range(5):\n",
    "    vtheo2.append(Gtheo2[i]/988.02/A[i+1])\n",
    "    #print(f\"Theoretical average velocity at node {i+1]}\")\n",
    "    \n",
    "printing2(vtheo2, 2)"
   ]
  },
  {
   "cell_type": "code",
   "execution_count": 412,
   "id": "e5ab72c3",
   "metadata": {},
   "outputs": [
    {
     "name": "stdout",
     "output_type": "stream",
     "text": [
      "Theoretical average velocity at node 1 for 3 is 0.0001 [ms^(-1)]\n",
      "Theoretical average velocity at node 2 for 3 is 0.0003 [ms^(-1)]\n",
      "Theoretical average velocity at node 3 for 3 is 0.0007 [ms^(-1)]\n",
      "Theoretical average velocity at node 4 for 3 is 0.0003 [ms^(-1)]\n",
      "Theoretical average velocity at node 5 for 3 is 0.0002 [ms^(-1)]\n",
      "Theoretical average velocity at node 6 for 3 is 0.0001 [ms^(-1)]\n"
     ]
    }
   ],
   "source": [
    "# Experiment 3\n",
    "vtheo3 = [(Gtheo3[4]/988.02/A[0])] # [kg / s] to [m^3/ s] then divide by [m^2]\n",
    "for i in range(5):\n",
    "    vtheo3.append(Gtheo3[i]/988.02/A[i+1])\n",
    "    #print(f\"Theoretical average velocity at node {i+1]}\")\n",
    "    \n",
    "printing2(vtheo3, 3)"
   ]
  },
  {
   "cell_type": "markdown",
   "id": "e96bf026",
   "metadata": {},
   "source": [
    "#### Calculate the theoretical maximum velocity at each node for three experiments"
   ]
  },
  {
   "cell_type": "code",
   "execution_count": 413,
   "id": "98efcc1e",
   "metadata": {},
   "outputs": [],
   "source": [
    "def printing3(lst, expno):\n",
    "    \"\"\"print out the maximum velocity results for part d in theory\"\"\"\n",
    "    for i in range(len(lst)):\n",
    "        print(f\"Theoretical maximum velocity at node {i+1} for {expno} is {round(lst[i], 4)} [ms^(-1)]\")\n",
    "    "
   ]
  },
  {
   "cell_type": "code",
   "execution_count": 414,
   "id": "28465252",
   "metadata": {},
   "outputs": [
    {
     "name": "stdout",
     "output_type": "stream",
     "text": [
      "Theoretical maximum velocity at node 1 for 1 is 0.0005 [ms^(-1)]\n",
      "Theoretical maximum velocity at node 2 for 1 is 0.0024 [ms^(-1)]\n",
      "Theoretical maximum velocity at node 3 for 1 is 0.003 [ms^(-1)]\n",
      "Theoretical maximum velocity at node 4 for 1 is 0.0019 [ms^(-1)]\n",
      "Theoretical maximum velocity at node 5 for 1 is 0.0026 [ms^(-1)]\n",
      "Theoretical maximum velocity at node 6 for 1 is 0.0005 [ms^(-1)]\n"
     ]
    }
   ],
   "source": [
    "# Experiment 1\n",
    "vtheomax1 = []\n",
    "for i in range(6):\n",
    "    vtheomax1.append(cal_umax(vtheo1[i], r[i]))\n",
    "    \n",
    "printing3(vtheomax1, 1)"
   ]
  },
  {
   "cell_type": "code",
   "execution_count": 415,
   "id": "5785c346",
   "metadata": {},
   "outputs": [
    {
     "name": "stdout",
     "output_type": "stream",
     "text": [
      "Theoretical maximum velocity at node 1 for 2 is 0.0003 [ms^(-1)]\n",
      "Theoretical maximum velocity at node 2 for 2 is 0.0014 [ms^(-1)]\n",
      "Theoretical maximum velocity at node 3 for 2 is 0.0018 [ms^(-1)]\n",
      "Theoretical maximum velocity at node 4 for 2 is 0.0011 [ms^(-1)]\n",
      "Theoretical maximum velocity at node 5 for 2 is 0.0015 [ms^(-1)]\n",
      "Theoretical maximum velocity at node 6 for 2 is 0.0003 [ms^(-1)]\n"
     ]
    }
   ],
   "source": [
    "# Experiment 2\n",
    "vtheomax2 = []\n",
    "for i in range(6):\n",
    "    vtheomax2.append(cal_umax(vtheo2[i], r[i]))\n",
    "    \n",
    "printing3(vtheomax2, 2)"
   ]
  },
  {
   "cell_type": "code",
   "execution_count": 416,
   "id": "379d9294",
   "metadata": {},
   "outputs": [
    {
     "name": "stdout",
     "output_type": "stream",
     "text": [
      "Theoretical maximum velocity at node 1 for 3 is 0.0001 [ms^(-1)]\n",
      "Theoretical maximum velocity at node 2 for 3 is 0.0011 [ms^(-1)]\n",
      "Theoretical maximum velocity at node 3 for 3 is 0.001 [ms^(-1)]\n",
      "Theoretical maximum velocity at node 4 for 3 is 0.0005 [ms^(-1)]\n",
      "Theoretical maximum velocity at node 5 for 3 is 0.0009 [ms^(-1)]\n",
      "Theoretical maximum velocity at node 6 for 3 is 0.0001 [ms^(-1)]\n"
     ]
    }
   ],
   "source": [
    "# Experiment 3\n",
    "vtheomax3 = []\n",
    "for i in range(6):\n",
    "    vtheomax3.append(cal_umax(vtheo3[i], r[i]))\n",
    "    \n",
    "printing3(vtheomax3, 3)"
   ]
  },
  {
   "cell_type": "code",
   "execution_count": 417,
   "id": "754aaad2",
   "metadata": {},
   "outputs": [
    {
     "data": {
      "image/png": "[encoded data removed]",
      "text/plain": [
       "<Figure size 648x432 with 1 Axes>"
      ]
     },
     "metadata": {
      "needs_background": "light"
     },
     "output_type": "display_data"
    },
    {
     "name": "stdout",
     "output_type": "stream",
     "text": [
      "\n"
     ]
    }
   ],
   "source": [
    "nodes = [1, 2, 3, 4, 5, 6] \n",
    "\n",
    "(fig, ax1) = plt.subplots(1, figsize=(9, 6))\n",
    "\n",
    "color = ['red', 'black', 'blue', 'yellow', 'green', 'orange']    \n",
    "\n",
    "ax1.plot(nodes,vtheo1,color[0], label='Exp 1  v' + '  [$\\dfrac{m}{s}$]')\n",
    "ax1.plot(nodes,vtheomax1,color[1], label='Exp 1  $v_{max}$'+ '  [$\\dfrac{m}{s}$]')\n",
    "\n",
    "ax1.plot(nodes,vtheo2,color[2], label='Exp 2  v' + '  [$\\dfrac{m}{s}$]')\n",
    "ax1.plot(nodes,vtheomax2,color[3], label='Exp 2  $v_{max}$'+ '  [$\\dfrac{m}{s}$]')\n",
    "\n",
    "ax1.plot(nodes,vtheo3,color[4], label='Exp 3  v' + '  [$\\dfrac{m}{s}$]')\n",
    "ax1.plot(nodes,vtheomax3,color[5], label='Exp 3  $v_{max}$'+ '  [$\\dfrac{m}{s}$]')\n",
    "\n",
    "\n",
    "ax1.set_xlabel(r'Node i, where $i \\in \\{1, 2, 3, 4, 5, 6\\}$',fontsize=16)\n",
    "ax1.set_ylabel(r'velocity  '+'$[\\dfrac{m}{s}]$ ',fontsize=16,color='black')\n",
    "\n",
    "ax1.tick_params(axis='y', labelsize=14)\n",
    "ax1.tick_params(axis='x', labelsize=14)\n",
    "\n",
    "ax1.legend(loc='upper right', fontsize=10)\n",
    "ax1.grid(True)\n",
    "\n",
    "plt.title('Profile of theoretical maximum velocity along the Venturi meter in three experiments', fontsize=15)\n",
    "fig.tight_layout()  # otherwise the right y-label is slightly clipped\n",
    "plt.show()\n",
    "print('')"
   ]
  },
  {
   "cell_type": "markdown",
   "id": "34dafe79",
   "metadata": {},
   "source": [
    "### Calculate the Reynolds number from Theory\n",
    "From CENG0003, 14 Turbulent Flow notes, we know that the reynolds number can be calculated as: \n",
    "$Re = \\dfrac{\\rho \\overline{u} d}{\\mu}$"
   ]
  },
  {
   "cell_type": "code",
   "execution_count": 425,
   "id": "21b11b79",
   "metadata": {},
   "outputs": [],
   "source": [
    "def cal_ReynoldsTheory(meanV, d, rho=998.02, mu=0.01):\n",
    "    \"\"\"Return the Reynolds number at each node \"\"\"\n",
    "    return rho * meanV * d / mu"
   ]
  },
  {
   "cell_type": "code",
   "execution_count": 426,
   "id": "389e7894",
   "metadata": {},
   "outputs": [
    {
     "name": "stdout",
     "output_type": "stream",
     "text": [
      "Reynolds number calculated at node 1 for exp1 is 2.1361227268029217\n",
      "Reynolds number calculated at node 2 for exp1 is 2.572327348301304\n",
      "Reynolds number calculated at node 3 for exp1 is 4.27350775100482\n",
      "Reynolds number calculated at node 4 for exp1 is 3.012935951675136\n",
      "Reynolds number calculated at node 5 for exp1 is 2.460533840980546\n",
      "Reynolds number calculated at node 6 for exp1 is 2.1361227268029217\n"
     ]
    }
   ],
   "source": [
    "# Experiment 1\n",
    "Rtheo1 = [];\n",
    "for i in range(len(r)):\n",
    "    Rtheo1.append(cal_ReynoldsTheory(v1[i], 2 * r[i]*1e-3))\n",
    "    print(f\"Reynolds number calculated at node {i+1} for exp1 is {Rtheo1[i]}\")"
   ]
  },
  {
   "cell_type": "code",
   "execution_count": 427,
   "id": "bb42afeb",
   "metadata": {},
   "outputs": [
    {
     "name": "stdout",
     "output_type": "stream",
     "text": [
      "Reynolds number calculated at node 1 for exp2 is 1.1333317800537723\n",
      "Reynolds number calculated at node 2 for exp2 is 1.3647625653487474\n",
      "Reynolds number calculated at node 3 for exp2 is 2.2673332790053347\n",
      "Reynolds number calculated at node 4 for exp2 is 1.5985299076943085\n",
      "Reynolds number calculated at node 5 for exp2 is 1.3054498989646786\n",
      "Reynolds number calculated at node 6 for exp2 is 1.1333317800537723\n"
     ]
    }
   ],
   "source": [
    "# Experiment 2\n",
    "Rtheo2 = [];\n",
    "for i in range(len(r)):\n",
    "    Rtheo2.append(cal_ReynoldsTheory(v2[i], 2 * r[i]*1e-3))\n",
    "    print(f\"Reynolds number calculated at node {i+1} for exp2 is {Rtheo2[i]}\")"
   ]
  },
  {
   "cell_type": "code",
   "execution_count": 428,
   "id": "6d594527",
   "metadata": {},
   "outputs": [
    {
     "name": "stdout",
     "output_type": "stream",
     "text": [
      "Reynolds number calculated at node 1 for exp3 is 0.6442096433989866\n",
      "Reynolds number calculated at node 2 for exp3 is 0.7757597739877089\n",
      "Reynolds number calculated at node 3 for exp3 is 1.2887999691188219\n",
      "Reynolds number calculated at node 4 for exp3 is 0.9086380527946594\n",
      "Reynolds number calculated at node 5 for exp3 is 0.7420452057272909\n",
      "Reynolds number calculated at node 6 for exp3 is 0.6442096433989866\n"
     ]
    }
   ],
   "source": [
    "# Experiment 3\n",
    "Rtheo3 = [];\n",
    "for i in range(len(r)):\n",
    "    Rtheo3.append(cal_ReynoldsTheory(v3[i], 2 * r[i]*1e-3))\n",
    "    print(f\"Reynolds number calculated at node {i+1} for exp3 is {Rtheo3[i]}\")"
   ]
  },
  {
   "cell_type": "markdown",
   "id": "2caba80d",
   "metadata": {},
   "source": [
    "## (Part d) Where are the deviations from the theoretical predictions attributed? (answered)\n",
    "\n",
    "Comparing the actual reynolds and the theoretical predictions. There is a huge discrepancy between the reynolds number obtained which differs by two orders of magnitude. This is due to the reason that the experimental measured flow rate and the theoretical computed flow rate is very different.\n",
    "\n",
    "However, beside this difference, there is no other deviations given there are no other independent varaibles that would affect the results, the theoretical predictions."
   ]
  },
  {
   "cell_type": "markdown",
   "id": "58df8c30",
   "metadata": {},
   "source": [
    "## (Part d) Compare the converging and diverging sections of the Venturi meter in terms of velocity, total head, and energy losses.\n",
    "\n",
    "The converging section of the Venturi meter has a bend angle of $21^\\circ$ and the diverging section has a bend angle of $8^\\circ$.\n",
    "\n",
    "And so far we have either measured or computed the total head, velocity at each node of the meter.\n",
    "\n",
    "In general, the velocity at the converging section is higher than that of the diverging section. \n",
    "We also know that although the pressure changes are more significant in the converging section, it is increasing, such that there is less friction loss as friction loss is inversely proportional to the diameter. If the velocity increases, the diameter should decreases, such that there is less frictional losss. \n",
    "\n",
    "Whereas in the diverging section, the tube diameter is larger and we can see in the previous graph Distributions of hydrostatic pressure changes over the Venturi tube axis for of the three inlet flowrates.', such that for nodes 3 and 4 afterwards, hydrostatic pressure changes are negative.\n",
    "\n",
    "From our measured total head experimental data, we can also see that for all three experiments, the total head decreases as the node number increases which implies energy loss as the fluid passes through the venturi meter. \n"
   ]
  },
  {
   "cell_type": "code",
   "execution_count": null,
   "id": "0261232f",
   "metadata": {},
   "outputs": [],
   "source": []
  },
  {
   "cell_type": "code",
   "execution_count": null,
   "id": "e372bbe9",
   "metadata": {},
   "outputs": [],
   "source": []
  },
  {
   "cell_type": "code",
   "execution_count": null,
   "id": "6f1c29a5",
   "metadata": {},
   "outputs": [],
   "source": []
  },
  {
   "cell_type": "code",
   "execution_count": null,
   "id": "4c5ede0e",
   "metadata": {},
   "outputs": [],
   "source": []
  },
  {
   "cell_type": "code",
   "execution_count": null,
   "id": "b7b29b9a",
   "metadata": {},
   "outputs": [],
   "source": []
  }
 ],
 "metadata": {
  "kernelspec": {
   "display_name": "Python 3 (ipykernel)",
   "language": "python",
   "name": "python3"
  },
  "language_info": {
   "codemirror_mode": {
    "name": "ipython",
    "version": 3
   },
   "file_extension": ".py",
   "mimetype": "text/x-python",
   "name": "python",
   "nbconvert_exporter": "python",
   "pygments_lexer": "ipython3",
   "version": "3.8.10"
  }
 },
 "nbformat": 4,
 "nbformat_minor": 5
}
